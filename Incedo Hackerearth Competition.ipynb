{
 "cells": [
  {
   "cell_type": "code",
   "execution_count": 2,
   "metadata": {},
   "outputs": [],
   "source": [
    "import numpy as np\n",
    "import pandas as pd\n",
    "import seaborn as sns\n",
    "import matplotlib.pyplot as plt\n",
    "import os\n",
    "import re\n",
    "% matplotlib inline\n",
    "import warnings\n",
    "from tqdm import tqdm\n",
    "from datetime import datetime\n",
    "import json\n",
    "warnings.filterwarnings(\"ignore\")"
   ]
  },
  {
   "cell_type": "code",
   "execution_count": 3,
   "metadata": {},
   "outputs": [],
   "source": [
    "os.chdir(r\"C:\\Users\\Mohiuddin\\Desktop\\machine learning\\ML\\incedo-hackerearth\")"
   ]
  },
  {
   "cell_type": "code",
   "execution_count": 4,
   "metadata": {},
   "outputs": [],
   "source": [
    "train = pd.read_csv(\"train_file.csv\")\n",
    "tes = pd.read_csv(\"test_file.csv\")\n",
    "test = pd.read_csv(\"test_file.csv\")\n",
    "submission = pd.read_excel(\"sample_submission08f968d.xlsx\")"
   ]
  },
  {
   "cell_type": "code",
   "execution_count": 6,
   "metadata": {},
   "outputs": [
    {
     "data": {
      "text/html": [
       "<div>\n",
       "<style scoped>\n",
       "    .dataframe tbody tr th:only-of-type {\n",
       "        vertical-align: middle;\n",
       "    }\n",
       "\n",
       "    .dataframe tbody tr th {\n",
       "        vertical-align: top;\n",
       "    }\n",
       "\n",
       "    .dataframe thead th {\n",
       "        text-align: right;\n",
       "    }\n",
       "</style>\n",
       "<table border=\"1\" class=\"dataframe\">\n",
       "  <thead>\n",
       "    <tr style=\"text-align: right;\">\n",
       "      <th></th>\n",
       "      <th>Patient_ID</th>\n",
       "      <th>YEAR</th>\n",
       "      <th>LocationDesc</th>\n",
       "      <th>Subtopic</th>\n",
       "      <th>Greater_Risk_Question</th>\n",
       "      <th>Description</th>\n",
       "      <th>Sample_Size</th>\n",
       "      <th>Sex</th>\n",
       "      <th>Race</th>\n",
       "      <th>Grade</th>\n",
       "      <th>GeoLocation</th>\n",
       "      <th>QuestionCode</th>\n",
       "      <th>StratID1</th>\n",
       "      <th>StratID2</th>\n",
       "      <th>StratID3</th>\n",
       "      <th>StratificationType</th>\n",
       "      <th>Greater_Risk_Probability</th>\n",
       "    </tr>\n",
       "  </thead>\n",
       "  <tbody>\n",
       "    <tr>\n",
       "      <th>0</th>\n",
       "      <td>1</td>\n",
       "      <td>1995</td>\n",
       "      <td>Houston, TX</td>\n",
       "      <td>1</td>\n",
       "      <td>Ever used cocaine</td>\n",
       "      <td>any form of cocaine, such as powder, crack, or...</td>\n",
       "      <td>335.0</td>\n",
       "      <td>Female</td>\n",
       "      <td>Hispanic or Latino</td>\n",
       "      <td>4</td>\n",
       "      <td>(29.760427, -95.369803)</td>\n",
       "      <td>H49</td>\n",
       "      <td>1</td>\n",
       "      <td>4</td>\n",
       "      <td>0</td>\n",
       "      <td>Local</td>\n",
       "      <td>7.4793</td>\n",
       "    </tr>\n",
       "    <tr>\n",
       "      <th>1</th>\n",
       "      <td>2</td>\n",
       "      <td>1997</td>\n",
       "      <td>Houston, TX</td>\n",
       "      <td>0</td>\n",
       "      <td>Currently drank alcohol</td>\n",
       "      <td>at least one drink of alcohol, on at least 1 d...</td>\n",
       "      <td>382.0</td>\n",
       "      <td>Total</td>\n",
       "      <td>Black or African American</td>\n",
       "      <td>4</td>\n",
       "      <td>(29.760427, -95.369803)</td>\n",
       "      <td>H42</td>\n",
       "      <td>0</td>\n",
       "      <td>3</td>\n",
       "      <td>0</td>\n",
       "      <td>Local</td>\n",
       "      <td>49.6852</td>\n",
       "    </tr>\n",
       "  </tbody>\n",
       "</table>\n",
       "</div>"
      ],
      "text/plain": [
       "   Patient_ID  YEAR LocationDesc  Subtopic    Greater_Risk_Question  \\\n",
       "0           1  1995  Houston, TX         1        Ever used cocaine   \n",
       "1           2  1997  Houston, TX         0  Currently drank alcohol   \n",
       "\n",
       "                                         Description  Sample_Size     Sex  \\\n",
       "0  any form of cocaine, such as powder, crack, or...        335.0  Female   \n",
       "1  at least one drink of alcohol, on at least 1 d...        382.0   Total   \n",
       "\n",
       "                        Race  Grade              GeoLocation QuestionCode  \\\n",
       "0         Hispanic or Latino      4  (29.760427, -95.369803)          H49   \n",
       "1  Black or African American      4  (29.760427, -95.369803)          H42   \n",
       "\n",
       "   StratID1  StratID2  StratID3 StratificationType  Greater_Risk_Probability  \n",
       "0         1         4         0              Local                    7.4793  \n",
       "1         0         3         0              Local                   49.6852  "
      ]
     },
     "execution_count": 6,
     "metadata": {},
     "output_type": "execute_result"
    }
   ],
   "source": [
    "train.head(2)"
   ]
  },
  {
   "cell_type": "code",
   "execution_count": 7,
   "metadata": {},
   "outputs": [
    {
     "data": {
      "text/plain": [
       "Patient_ID                  55399\n",
       "YEAR                           14\n",
       "LocationDesc                   91\n",
       "Subtopic                        2\n",
       "Greater_Risk_Question          20\n",
       "Description                    20\n",
       "Sample_Size                  3583\n",
       "Sex                             3\n",
       "Race                            8\n",
       "Grade                           5\n",
       "GeoLocation                    85\n",
       "QuestionCode                   20\n",
       "StratID1                        3\n",
       "StratID2                        8\n",
       "StratID3                        5\n",
       "StratificationType              5\n",
       "Greater_Risk_Probability    51821\n",
       "dtype: int64"
      ]
     },
     "execution_count": 7,
     "metadata": {},
     "output_type": "execute_result"
    }
   ],
   "source": [
    "train.nunique()"
   ]
  },
  {
   "cell_type": "code",
   "execution_count": 8,
   "metadata": {},
   "outputs": [
    {
     "data": {
      "text/plain": [
       "Patient_ID                     0\n",
       "YEAR                           0\n",
       "LocationDesc                   0\n",
       "Subtopic                       0\n",
       "Greater_Risk_Question          0\n",
       "Description                    0\n",
       "Sample_Size                    0\n",
       "Sex                            0\n",
       "Race                           0\n",
       "Grade                          0\n",
       "GeoLocation                 3301\n",
       "QuestionCode                   0\n",
       "StratID1                       0\n",
       "StratID2                       0\n",
       "StratID3                       0\n",
       "StratificationType             0\n",
       "Greater_Risk_Probability       0\n",
       "dtype: int64"
      ]
     },
     "execution_count": 8,
     "metadata": {},
     "output_type": "execute_result"
    }
   ],
   "source": [
    "train.isnull().sum()"
   ]
  },
  {
   "cell_type": "code",
   "execution_count": 5,
   "metadata": {},
   "outputs": [],
   "source": [
    "from sklearn.preprocessing import LabelEncoder\n",
    "labelencoder = LabelEncoder()\n",
    "train[\"LocationDesc\"] = labelencoder.fit_transform(train[\"LocationDesc\"])\n",
    "test[\"LocationDesc\"] = labelencoder.fit_transform(test[\"LocationDesc\"])\n"
   ]
  },
  {
   "cell_type": "code",
   "execution_count": 6,
   "metadata": {},
   "outputs": [],
   "source": [
    "le = LabelEncoder()\n",
    "train[\"Greater_Risk_Question\"] = le.fit_transform(train[\"Greater_Risk_Question\"])\n",
    "test[\"Greater_Risk_Question\"] = le.fit_transform(test[\"Greater_Risk_Question\"])\n"
   ]
  },
  {
   "cell_type": "code",
   "execution_count": 7,
   "metadata": {},
   "outputs": [],
   "source": [
    "te = LabelEncoder()\n",
    "train[\"Description\"] = te.fit_transform(train[\"Description\"])\n",
    "test[\"Description\"] = te.fit_transform(test[\"Description\"])\n"
   ]
  },
  {
   "cell_type": "code",
   "execution_count": 8,
   "metadata": {},
   "outputs": [
    {
     "data": {
      "text/plain": [
       "Total     22057\n",
       "Female    16973\n",
       "Male      16369\n",
       "Name: Sex, dtype: int64"
      ]
     },
     "execution_count": 8,
     "metadata": {},
     "output_type": "execute_result"
    }
   ],
   "source": [
    "train.Sex.value_counts()"
   ]
  },
  {
   "cell_type": "code",
   "execution_count": 9,
   "metadata": {},
   "outputs": [],
   "source": [
    "fe = LabelEncoder()\n",
    "train[\"Sex\"] = fe.fit_transform(train[\"Sex\"])\n",
    "test[\"Sex\"] = fe.fit_transform(test[\"Sex\"])\n"
   ]
  },
  {
   "cell_type": "code",
   "execution_count": 10,
   "metadata": {},
   "outputs": [],
   "source": [
    "ge = LabelEncoder()\n",
    "train[\"Race\"] = ge.fit_transform(train[\"Race\"])\n",
    "test[\"Race\"] = ge.fit_transform(test[\"Race\"])\n"
   ]
  },
  {
   "cell_type": "code",
   "execution_count": 11,
   "metadata": {},
   "outputs": [],
   "source": [
    "cc = LabelEncoder()\n",
    "train[\"QuestionCode\"] = cc.fit_transform(train[\"QuestionCode\"])\n",
    "test[\"QuestionCode\"] = cc.fit_transform(test[\"QuestionCode\"])\n"
   ]
  },
  {
   "cell_type": "code",
   "execution_count": 12,
   "metadata": {},
   "outputs": [],
   "source": [
    "he = LabelEncoder()\n",
    "train[\"StratificationType\"] = he.fit_transform(train[\"StratificationType\"])\n",
    "test[\"StratificationType\"] = he.fit_transform(test[\"StratificationType\"])\n"
   ]
  },
  {
   "cell_type": "code",
   "execution_count": 13,
   "metadata": {},
   "outputs": [],
   "source": [
    "#train[\"QuestionCode\"] = train['QuestionCode'].replace('H', ' ', regex=True)"
   ]
  },
  {
   "cell_type": "code",
   "execution_count": 14,
   "metadata": {},
   "outputs": [],
   "source": [
    "train['GeoLocation'] = train['GeoLocation'].str.strip('()')\n",
    "test['GeoLocation'] = test['GeoLocation'].str.strip('()')\n"
   ]
  },
  {
   "cell_type": "code",
   "execution_count": 15,
   "metadata": {},
   "outputs": [],
   "source": [
    "train[['Latitute','Longitute']] = train.GeoLocation.str.split(\",\",expand=True,).astype(float)\n",
    "test[['Latitute','Longitute']] = test.GeoLocation.str.split(\",\",expand=True,).astype(float)"
   ]
  },
  {
   "cell_type": "code",
   "execution_count": 16,
   "metadata": {},
   "outputs": [],
   "source": [
    "#train.Latitute.replace(np.nan,train[\"Latitute\"].mean,inplace = True)\n",
    "#test.Latitute.replace(np.nan,test[\"Latitute\"].mean,inplace = True)"
   ]
  },
  {
   "cell_type": "code",
   "execution_count": 17,
   "metadata": {},
   "outputs": [],
   "source": [
    "#train.Longitute.replace(np.nan,train[\"Longitute\"].mean,inplace = True)\n",
    "#test.Longitute.replace(np.nan,test[\"Longitute\"].mean,inplace = True)"
   ]
  },
  {
   "cell_type": "code",
   "execution_count": 18,
   "metadata": {},
   "outputs": [],
   "source": [
    "train['Latitute'].fillna((train['Latitute'].mean()), inplace=True)\n",
    "test['Latitute'].fillna((test['Latitute'].mean()), inplace=True)\n",
    "train['Longitute'].fillna((train['Longitute'].mean()), inplace=True)\n",
    "test['Longitute'].fillna((test['Longitute'].mean()), inplace=True)\n"
   ]
  },
  {
   "cell_type": "code",
   "execution_count": 19,
   "metadata": {},
   "outputs": [
    {
     "data": {
      "text/plain": [
       "Patient_ID                    int64\n",
       "YEAR                          int64\n",
       "LocationDesc                  int64\n",
       "Subtopic                      int64\n",
       "Greater_Risk_Question         int64\n",
       "Description                   int64\n",
       "Sample_Size                 float64\n",
       "Sex                           int64\n",
       "Race                          int64\n",
       "Grade                         int64\n",
       "GeoLocation                  object\n",
       "QuestionCode                  int64\n",
       "StratID1                      int64\n",
       "StratID2                      int64\n",
       "StratID3                      int64\n",
       "StratificationType            int64\n",
       "Greater_Risk_Probability    float64\n",
       "Latitute                    float64\n",
       "Longitute                   float64\n",
       "dtype: object"
      ]
     },
     "execution_count": 19,
     "metadata": {},
     "output_type": "execute_result"
    }
   ],
   "source": [
    "train.dtypes"
   ]
  },
  {
   "cell_type": "code",
   "execution_count": 20,
   "metadata": {},
   "outputs": [],
   "source": [
    "train[\"stratIDTotal\"] = train.StratID1 +  train.StratID2 + train.StratID3\n",
    "test[\"stratIDTotal\"] = test.StratID1 +  test.StratID2 + test.StratID3"
   ]
  },
  {
   "cell_type": "code",
   "execution_count": 21,
   "metadata": {},
   "outputs": [
    {
     "name": "stdout",
     "output_type": "stream",
     "text": [
      "(55399, 17)\n",
      "(36932, 17)\n"
     ]
    }
   ],
   "source": [
    "y = train.Greater_Risk_Probability\n",
    "y = pd.DataFrame(y)\n",
    "train.drop([\"GeoLocation\",\"Patient_ID\",\"Greater_Risk_Probability\"],axis = 1, inplace = True)\n",
    "test.drop([\"GeoLocation\",\"Patient_ID\"],axis = 1, inplace = True)\n",
    "print(train.shape)\n",
    "print(test.shape)"
   ]
  },
  {
   "cell_type": "code",
   "execution_count": 146,
   "metadata": {},
   "outputs": [
    {
     "data": {
      "text/html": [
       "<div>\n",
       "<style scoped>\n",
       "    .dataframe tbody tr th:only-of-type {\n",
       "        vertical-align: middle;\n",
       "    }\n",
       "\n",
       "    .dataframe tbody tr th {\n",
       "        vertical-align: top;\n",
       "    }\n",
       "\n",
       "    .dataframe thead th {\n",
       "        text-align: right;\n",
       "    }\n",
       "</style>\n",
       "<table border=\"1\" class=\"dataframe\">\n",
       "  <thead>\n",
       "    <tr style=\"text-align: right;\">\n",
       "      <th></th>\n",
       "      <th>YEAR</th>\n",
       "      <th>LocationDesc</th>\n",
       "      <th>Subtopic</th>\n",
       "      <th>Greater_Risk_Question</th>\n",
       "      <th>Description</th>\n",
       "      <th>Sample_Size</th>\n",
       "      <th>Sex</th>\n",
       "      <th>Race</th>\n",
       "      <th>Grade</th>\n",
       "      <th>QuestionCode</th>\n",
       "      <th>StratID1</th>\n",
       "      <th>StratID2</th>\n",
       "      <th>StratID3</th>\n",
       "      <th>StratificationType</th>\n",
       "      <th>Latitute</th>\n",
       "      <th>Longitute</th>\n",
       "      <th>stratIDTotal</th>\n",
       "    </tr>\n",
       "  </thead>\n",
       "  <tbody>\n",
       "    <tr>\n",
       "      <th>0</th>\n",
       "      <td>1995</td>\n",
       "      <td>32</td>\n",
       "      <td>1</td>\n",
       "      <td>6</td>\n",
       "      <td>7</td>\n",
       "      <td>335.0</td>\n",
       "      <td>0</td>\n",
       "      <td>3</td>\n",
       "      <td>4</td>\n",
       "      <td>9</td>\n",
       "      <td>1</td>\n",
       "      <td>4</td>\n",
       "      <td>0</td>\n",
       "      <td>0</td>\n",
       "      <td>29.760427</td>\n",
       "      <td>-95.369803</td>\n",
       "      <td>5</td>\n",
       "    </tr>\n",
       "    <tr>\n",
       "      <th>1</th>\n",
       "      <td>1997</td>\n",
       "      <td>32</td>\n",
       "      <td>0</td>\n",
       "      <td>0</td>\n",
       "      <td>8</td>\n",
       "      <td>382.0</td>\n",
       "      <td>2</td>\n",
       "      <td>2</td>\n",
       "      <td>4</td>\n",
       "      <td>2</td>\n",
       "      <td>0</td>\n",
       "      <td>3</td>\n",
       "      <td>0</td>\n",
       "      <td>0</td>\n",
       "      <td>29.760427</td>\n",
       "      <td>-95.369803</td>\n",
       "      <td>3</td>\n",
       "    </tr>\n",
       "    <tr>\n",
       "      <th>2</th>\n",
       "      <td>1993</td>\n",
       "      <td>54</td>\n",
       "      <td>0</td>\n",
       "      <td>14</td>\n",
       "      <td>14</td>\n",
       "      <td>196.0</td>\n",
       "      <td>0</td>\n",
       "      <td>7</td>\n",
       "      <td>0</td>\n",
       "      <td>1</td>\n",
       "      <td>1</td>\n",
       "      <td>6</td>\n",
       "      <td>2</td>\n",
       "      <td>3</td>\n",
       "      <td>39.493240</td>\n",
       "      <td>-117.071841</td>\n",
       "      <td>9</td>\n",
       "    </tr>\n",
       "    <tr>\n",
       "      <th>3</th>\n",
       "      <td>2017</td>\n",
       "      <td>71</td>\n",
       "      <td>1</td>\n",
       "      <td>6</td>\n",
       "      <td>7</td>\n",
       "      <td>104.0</td>\n",
       "      <td>1</td>\n",
       "      <td>1</td>\n",
       "      <td>4</td>\n",
       "      <td>9</td>\n",
       "      <td>2</td>\n",
       "      <td>2</td>\n",
       "      <td>0</td>\n",
       "      <td>3</td>\n",
       "      <td>40.793730</td>\n",
       "      <td>-77.860700</td>\n",
       "      <td>4</td>\n",
       "    </tr>\n",
       "    <tr>\n",
       "      <th>4</th>\n",
       "      <td>2007</td>\n",
       "      <td>77</td>\n",
       "      <td>1</td>\n",
       "      <td>5</td>\n",
       "      <td>15</td>\n",
       "      <td>100.0</td>\n",
       "      <td>0</td>\n",
       "      <td>4</td>\n",
       "      <td>4</td>\n",
       "      <td>15</td>\n",
       "      <td>1</td>\n",
       "      <td>7</td>\n",
       "      <td>0</td>\n",
       "      <td>0</td>\n",
       "      <td>37.774930</td>\n",
       "      <td>-122.419416</td>\n",
       "      <td>8</td>\n",
       "    </tr>\n",
       "  </tbody>\n",
       "</table>\n",
       "</div>"
      ],
      "text/plain": [
       "   YEAR  LocationDesc  Subtopic  Greater_Risk_Question  Description  \\\n",
       "0  1995            32         1                      6            7   \n",
       "1  1997            32         0                      0            8   \n",
       "2  1993            54         0                     14           14   \n",
       "3  2017            71         1                      6            7   \n",
       "4  2007            77         1                      5           15   \n",
       "\n",
       "   Sample_Size  Sex  Race  Grade  QuestionCode  StratID1  StratID2  StratID3  \\\n",
       "0        335.0    0     3      4             9         1         4         0   \n",
       "1        382.0    2     2      4             2         0         3         0   \n",
       "2        196.0    0     7      0             1         1         6         2   \n",
       "3        104.0    1     1      4             9         2         2         0   \n",
       "4        100.0    0     4      4            15         1         7         0   \n",
       "\n",
       "   StratificationType   Latitute   Longitute  stratIDTotal  \n",
       "0                   0  29.760427  -95.369803             5  \n",
       "1                   0  29.760427  -95.369803             3  \n",
       "2                   3  39.493240 -117.071841             9  \n",
       "3                   3  40.793730  -77.860700             4  \n",
       "4                   0  37.774930 -122.419416             8  "
      ]
     },
     "execution_count": 146,
     "metadata": {},
     "output_type": "execute_result"
    }
   ],
   "source": [
    "train.head()"
   ]
  },
  {
   "cell_type": "code",
   "execution_count": 99,
   "metadata": {},
   "outputs": [
    {
     "data": {
      "text/plain": [
       "RandomForestRegressor(bootstrap=True, criterion='mse', max_depth=None,\n",
       "           max_features='auto', max_leaf_nodes=None,\n",
       "           min_impurity_decrease=0.0, min_impurity_split=None,\n",
       "           min_samples_leaf=1, min_samples_split=2,\n",
       "           min_weight_fraction_leaf=0.0, n_estimators=750, n_jobs=1,\n",
       "           oob_score=False, random_state=None, verbose=0, warm_start=False)"
      ]
     },
     "execution_count": 99,
     "metadata": {},
     "output_type": "execute_result"
    }
   ],
   "source": [
    "from sklearn.ensemble import RandomForestRegressor\n",
    "model = RandomForestRegressor(n_estimators=750)\n",
    "model.fit(train, y)"
   ]
  },
  {
   "cell_type": "code",
   "execution_count": 26,
   "metadata": {},
   "outputs": [
    {
     "ename": "ValueError",
     "evalue": "Please provide as model inputs either a single array or a list of arrays. You passed: x=       YEAR  LocationDesc  Subtopic  Greater_Risk_Question  Description  \\\n0      2007            52         1                     11            6   \n1      2001            27         1                      1            5   \n2      2005            14         1                     19           11   \n3      2017            54         1                     13            0   \n4      2007            34         1                      9            2   \n5      2009            20         1                     19           11   \n6      2009            75         1                      5           15   \n7      2017            43         1                      3           18   \n8      2011            27         1                      1            5   \n9      2009            33         1                      7            1   \n10     2017            89         1                     17            4   \n11     2007            48         1                      9            2   \n12     2015            43         1                      7            1   \n13     1993            16         1                      6            7   \n14     2009            54         0                     14           14   \n15     2011            83         0                      2            9   \n16     2013            29         0                      0            8   \n17     2007            11         1                     19           11   \n18     2007            70         1                     10           16   \n19     2017            51         1                     11            6   \n20     2007            75         0                      0            8   \n21     2011            72         1                     10           16   \n22     2009            59         1                      9            2   \n23     2003            81         0                      2            9   \n24     2017            36         1                      3           18   \n25     1997            49         1                     17            4   \n26     2013            87         1                      9            2   \n27     2003            27         1                      5           15   \n28     2017            72         1                     19           11   \n29     2013            53         1                     17            4   \n...     ...           ...       ...                    ...          ...   \n36902  2005            68         0                      0            8   \n36903  2007            51         1                     17            4   \n36904  1999            46         1                     19           11   \n36905  2011            51         1                      9            2   \n36906  2013            56         0                     14           14   \n36907  2017            84         1                      8           17   \n36908  2011            78         1                      1            5   \n36909  1997            89         0                      0            8   \n36910  2001            27         1                      9            2   \n36911  1997            24         0                      0            8   \n36912  2007            63         1                      1            5   \n36913  2017            19         1                     13            0   \n36914  2017            22         0                     15           19   \n36915  2011            43         0                     14           14   \n36916  2001            75         1                      3           18   \n36917  2005            29         0                      0            8   \n36918  2015            87         1                      9            2   \n36919  2013            37         1                     11            6   \n36920  2017            40         0                     15           19   \n36921  1997            31         1                      3           18   \n36922  2007            32         1                      7            1   \n36923  2007            22         0                      2            9   \n36924  2005            50         1                      1            5   \n36925  2005            64         1                     17            4   \n36926  2001            83         0                      0            8   \n36927  2005            44         0                     14           14   \n36928  2005            67         1                      9            2   \n36929  2007            49         1                     10           16   \n36930  1999            58         1                      6            7   \n36931  2017            84         0                      2            9   \n\n       Sample_Size  Sex  Race  Grade  QuestionCode  StratID1  StratID2  \\\n0            157.0    1     3      3             6         2         4   \n1            724.0    2     6      2             8         0         0   \n2            105.0    1     3      4            18         2         4   \n3            157.0    1     6      2            14         2         0   \n4            174.0    2     2      1            11         0         3   \n5            149.0    2     3      1            18         0         4   \n6            222.0    2     3      3            15         0         4   \n7           1482.0    2     3      0            17         0         4   \n8            169.0    2     1      4             8         0         2   \n9            473.0    2     7      1            13         0         6   \n10           263.0    1     6      0             7         2         0   \n11           500.0    0     2      4            11         1         3   \n12           311.0    1     1      0            13         2         2   \n13           228.0    2     7      4             9         0         6   \n14           622.0    2     6      3             1         0         0   \n15           142.0    1     7      1             0         2         6   \n16           149.0    2     7      1             2         0         6   \n17           244.0    0     6      1            18         1         0   \n18           704.0    2     6      3            10         0         0   \n19           404.0    1     7      2             6         2         6   \n20           132.0    1     3      3             2         2         4   \n21           102.0    0     7      4            10         1         6   \n22          1357.0    1     6      2            11         2         0   \n23           169.0    1     7      0             0         2         6   \n24           549.0    1     7      4            17         2         6   \n25           154.0    0     2      1             7         1         3   \n26           306.0    2     2      2            11         0         3   \n27           566.0    2     7      0            15         0         6   \n28           159.0    1     6      1            18         2         0   \n29           295.0    2     7      0             7         0         6   \n...            ...  ...   ...    ...           ...       ...       ...   \n36902        244.0    1     6      3             2         2         0   \n36903        432.0    1     6      1             7         2         0   \n36904        128.0    0     6      2            18         1         0   \n36905       1689.0    0     7      4            11         1         6   \n36906        125.0    1     7      2             1         2         6   \n36907        380.0    0     3      2            19         1         4   \n36908        109.0    2     1      3             8         0         2   \n36909        206.0    2     7      2             2         0         6   \n36910        212.0    2     2      1            11         0         3   \n36911        464.0    2     2      3             2         0         3   \n36912        703.0    1     7      4             8         2         6   \n36913        149.0    1     7      1            14         2         6   \n36914       1254.0    2     7      4             5         0         6   \n36915        127.0    2     3      3             1         0         4   \n36916        397.0    1     6      4            17         2         0   \n36917        772.0    1     6      4             2         2         0   \n36918       1100.0    0     7      4            11         1         6   \n36919        312.0    2     7      1             6         0         6   \n36920        327.0    2     7      4             5         0         6   \n36921        153.0    0     6      1            17         1         0   \n36922        287.0    0     6      0            13         1         0   \n36923        385.0    2     7      3             0         0         6   \n36924        263.0    1     6      0             8         2         0   \n36925        661.0    2     6      3             7         0         0   \n36926        194.0    1     2      3             2         2         3   \n36927        464.0    0     6      1             1         1         0   \n36928        233.0    0     6      3            11         1         0   \n36929        724.0    1     6      4            10         2         0   \n36930        639.0    0     2      4             9         1         3   \n36931        369.0    1     4      4             0         2         7   \n\n       StratID3  StratificationType   Latitute   Longitute  stratIDTotal  \n0             1                   2  36.349640  -80.763515             7  \n1             4                   3  28.932040  -81.928961             4  \n2             0                   0  35.227087  -80.843127             6  \n3             4                   3  39.493240 -117.071841             6  \n4             3                   3  40.485010  -88.997710             6  \n5             3                   0  32.776664  -96.796988             7  \n6             1                   0  34.108345 -117.289765             5  \n7             2                   3  39.290581  -76.609260             6  \n8             0                   3  28.932040  -81.928961             2  \n9             3                   3  43.682630 -114.363730             9  \n10            2                   3  44.393191  -89.816371             4  \n11            0                   0  43.038903  -87.906474             4  \n12            2                   3  39.290581  -76.609260             6  \n13            0                   0  41.878114  -87.629798             6  \n14            1                   3  39.493240 -117.071841             1  \n15            3                   3  31.827240  -99.426770            11  \n16            3                   3  32.839681  -83.627580             9  \n17            3                   0  42.360083  -71.058880             4  \n18            1                   0  26.651450  -80.276733             1  \n19            4                   3  47.066529 -109.424421            12  \n20            1                   0  34.108345 -117.289765             7  \n21            0                   0  39.952584  -75.165222             7  \n22            4                   3  42.827001  -75.543970             6  \n23            2                   3  44.353130 -100.373531            10  \n24            0                   3  42.469401  -93.816491             8  \n25            3                   3  32.745510  -89.538031             7  \n26            4                   3  37.542681  -78.457890             7  \n27            2                   3  28.932040  -81.928961             8  \n28            3                   0  39.952584  -75.165222             5  \n29            2                   3  41.641041  -99.365721             8  \n...         ...                 ...        ...         ...           ...  \n36902         1                   0  28.484500  -81.251883             3  \n36903         3                   3  47.066529 -109.424421             5  \n36904         4                   0  25.551603  -80.632692             5  \n36905         0                   3  47.066529 -109.424421             7  \n36906         4                   3  40.130570  -74.273691            12  \n36907         4                   1  36.349640  -80.763515             9  \n36908         1                   0  47.606210 -122.332071             3  \n36909         4                   3  44.393191  -89.816371            10  \n36910         3                   3  28.932040  -81.928961             6  \n36911         1                   0  42.331427  -83.045754             4  \n36912         0                   3  47.475320 -100.118421             8  \n36913         3                   3  41.562661  -72.649841            11  \n36914         0                   3  39.008831  -75.577741             6  \n36915         1                   3  39.290581  -76.609260             5  \n36916         0                   0  34.108345 -117.289765             2  \n36917         0                   3  32.839681  -83.627580             2  \n36918         0                   3  37.542681  -78.457890             7  \n36919         3                   3  38.347740  -98.200781             9  \n36920         0                   3  31.312661  -92.445680             6  \n36921         3                   3  21.304850 -157.857749             4  \n36922         2                   0  29.760427  -95.369803             3  \n36923         1                   3  39.008831  -75.577741             7  \n36924         2                   3  38.635791  -92.566300             4  \n36925         1                   4  15.097900  145.673900             1  \n36926         1                   3  31.827240  -99.426770             6  \n36927         3                   3  42.276870  -72.082691             4  \n36928         1                   3  35.472031  -97.521070             2  \n36929         0                   3  32.745510  -89.538031             2  \n36930         0                   0  36.349640  -80.763515             4  \n36931         0                   1  36.349640  -80.763515             9  \n\n[36932 rows x 17 columns]",
     "output_type": "error",
     "traceback": [
      "\u001b[1;31m---------------------------------------------------------------------------\u001b[0m",
      "\u001b[1;31mValueError\u001b[0m                                Traceback (most recent call last)",
      "\u001b[1;32m<ipython-input-26-82c4f2e9fa53>\u001b[0m in \u001b[0;36m<module>\u001b[1;34m()\u001b[0m\n\u001b[1;32m----> 1\u001b[1;33m \u001b[0mpredictions\u001b[0m \u001b[1;33m=\u001b[0m \u001b[0mmodel\u001b[0m\u001b[1;33m.\u001b[0m\u001b[0mpredict\u001b[0m\u001b[1;33m(\u001b[0m\u001b[0mtest\u001b[0m\u001b[1;33m)\u001b[0m\u001b[1;33m\u001b[0m\u001b[0m\n\u001b[0m",
      "\u001b[1;32mC:\\ProgramData\\Anaconda3\\lib\\site-packages\\keras\\engine\\training.py\u001b[0m in \u001b[0;36mpredict\u001b[1;34m(self, x, batch_size, verbose, steps)\u001b[0m\n\u001b[0;32m   1147\u001b[0m                              'argument.')\n\u001b[0;32m   1148\u001b[0m         \u001b[1;31m# Validate user data.\u001b[0m\u001b[1;33m\u001b[0m\u001b[1;33m\u001b[0m\u001b[0m\n\u001b[1;32m-> 1149\u001b[1;33m         \u001b[0mx\u001b[0m\u001b[1;33m,\u001b[0m \u001b[0m_\u001b[0m\u001b[1;33m,\u001b[0m \u001b[0m_\u001b[0m \u001b[1;33m=\u001b[0m \u001b[0mself\u001b[0m\u001b[1;33m.\u001b[0m\u001b[0m_standardize_user_data\u001b[0m\u001b[1;33m(\u001b[0m\u001b[0mx\u001b[0m\u001b[1;33m)\u001b[0m\u001b[1;33m\u001b[0m\u001b[0m\n\u001b[0m\u001b[0;32m   1150\u001b[0m         \u001b[1;32mif\u001b[0m \u001b[0mself\u001b[0m\u001b[1;33m.\u001b[0m\u001b[0mstateful\u001b[0m\u001b[1;33m:\u001b[0m\u001b[1;33m\u001b[0m\u001b[0m\n\u001b[0;32m   1151\u001b[0m             \u001b[1;32mif\u001b[0m \u001b[0mx\u001b[0m\u001b[1;33m[\u001b[0m\u001b[1;36m0\u001b[0m\u001b[1;33m]\u001b[0m\u001b[1;33m.\u001b[0m\u001b[0mshape\u001b[0m\u001b[1;33m[\u001b[0m\u001b[1;36m0\u001b[0m\u001b[1;33m]\u001b[0m \u001b[1;33m>\u001b[0m \u001b[0mbatch_size\u001b[0m \u001b[1;32mand\u001b[0m \u001b[0mx\u001b[0m\u001b[1;33m[\u001b[0m\u001b[1;36m0\u001b[0m\u001b[1;33m]\u001b[0m\u001b[1;33m.\u001b[0m\u001b[0mshape\u001b[0m\u001b[1;33m[\u001b[0m\u001b[1;36m0\u001b[0m\u001b[1;33m]\u001b[0m \u001b[1;33m%\u001b[0m \u001b[0mbatch_size\u001b[0m \u001b[1;33m!=\u001b[0m \u001b[1;36m0\u001b[0m\u001b[1;33m:\u001b[0m\u001b[1;33m\u001b[0m\u001b[0m\n",
      "\u001b[1;32mC:\\ProgramData\\Anaconda3\\lib\\site-packages\\keras\\engine\\training.py\u001b[0m in \u001b[0;36m_standardize_user_data\u001b[1;34m(self, x, y, sample_weight, class_weight, check_array_lengths, batch_size)\u001b[0m\n\u001b[0;32m    668\u001b[0m                                      \u001b[1;34m'either a single '\u001b[0m\u001b[1;33m\u001b[0m\u001b[0m\n\u001b[0;32m    669\u001b[0m                                      \u001b[1;34m'array or a list of arrays. '\u001b[0m\u001b[1;33m\u001b[0m\u001b[0m\n\u001b[1;32m--> 670\u001b[1;33m                                      'You passed: x=' + str(x))\n\u001b[0m\u001b[0;32m    671\u001b[0m                 \u001b[0mall_inputs\u001b[0m\u001b[1;33m.\u001b[0m\u001b[0mappend\u001b[0m\u001b[1;33m(\u001b[0m\u001b[0mx\u001b[0m\u001b[1;33m)\u001b[0m\u001b[1;33m\u001b[0m\u001b[0m\n\u001b[0;32m    672\u001b[0m \u001b[1;33m\u001b[0m\u001b[0m\n",
      "\u001b[1;31mValueError\u001b[0m: Please provide as model inputs either a single array or a list of arrays. You passed: x=       YEAR  LocationDesc  Subtopic  Greater_Risk_Question  Description  \\\n0      2007            52         1                     11            6   \n1      2001            27         1                      1            5   \n2      2005            14         1                     19           11   \n3      2017            54         1                     13            0   \n4      2007            34         1                      9            2   \n5      2009            20         1                     19           11   \n6      2009            75         1                      5           15   \n7      2017            43         1                      3           18   \n8      2011            27         1                      1            5   \n9      2009            33         1                      7            1   \n10     2017            89         1                     17            4   \n11     2007            48         1                      9            2   \n12     2015            43         1                      7            1   \n13     1993            16         1                      6            7   \n14     2009            54         0                     14           14   \n15     2011            83         0                      2            9   \n16     2013            29         0                      0            8   \n17     2007            11         1                     19           11   \n18     2007            70         1                     10           16   \n19     2017            51         1                     11            6   \n20     2007            75         0                      0            8   \n21     2011            72         1                     10           16   \n22     2009            59         1                      9            2   \n23     2003            81         0                      2            9   \n24     2017            36         1                      3           18   \n25     1997            49         1                     17            4   \n26     2013            87         1                      9            2   \n27     2003            27         1                      5           15   \n28     2017            72         1                     19           11   \n29     2013            53         1                     17            4   \n...     ...           ...       ...                    ...          ...   \n36902  2005            68         0                      0            8   \n36903  2007            51         1                     17            4   \n36904  1999            46         1                     19           11   \n36905  2011            51         1                      9            2   \n36906  2013            56         0                     14           14   \n36907  2017            84         1                      8           17   \n36908  2011            78         1                      1            5   \n36909  1997            89         0                      0            8   \n36910  2001            27         1                      9            2   \n36911  1997            24         0                      0            8   \n36912  2007            63         1                      1            5   \n36913  2017            19         1                     13            0   \n36914  2017            22         0                     15           19   \n36915  2011            43         0                     14           14   \n36916  2001            75         1                      3           18   \n36917  2005            29         0                      0            8   \n36918  2015            87         1                      9            2   \n36919  2013            37         1                     11            6   \n36920  2017            40         0                     15           19   \n36921  1997            31         1                      3           18   \n36922  2007            32         1                      7            1   \n36923  2007            22         0                      2            9   \n36924  2005            50         1                      1            5   \n36925  2005            64         1                     17            4   \n36926  2001            83         0                      0            8   \n36927  2005            44         0                     14           14   \n36928  2005            67         1                      9            2   \n36929  2007            49         1                     10           16   \n36930  1999            58         1                      6            7   \n36931  2017            84         0                      2            9   \n\n       Sample_Size  Sex  Race  Grade  QuestionCode  StratID1  StratID2  \\\n0            157.0    1     3      3             6         2         4   \n1            724.0    2     6      2             8         0         0   \n2            105.0    1     3      4            18         2         4   \n3            157.0    1     6      2            14         2         0   \n4            174.0    2     2      1            11         0         3   \n5            149.0    2     3      1            18         0         4   \n6            222.0    2     3      3            15         0         4   \n7           1482.0    2     3      0            17         0         4   \n8            169.0    2     1      4             8         0         2   \n9            473.0    2     7      1            13         0         6   \n10           263.0    1     6      0             7         2         0   \n11           500.0    0     2      4            11         1         3   \n12           311.0    1     1      0            13         2         2   \n13           228.0    2     7      4             9         0         6   \n14           622.0    2     6      3             1         0         0   \n15           142.0    1     7      1             0         2         6   \n16           149.0    2     7      1             2         0         6   \n17           244.0    0     6      1            18         1         0   \n18           704.0    2     6      3            10         0         0   \n19           404.0    1     7      2             6         2         6   \n20           132.0    1     3      3             2         2         4   \n21           102.0    0     7      4            10         1         6   \n22          1357.0    1     6      2            11         2         0   \n23           169.0    1     7      0             0         2         6   \n24           549.0    1     7      4            17         2         6   \n25           154.0    0     2      1             7         1         3   \n26           306.0    2     2      2            11         0         3   \n27           566.0    2     7      0            15         0         6   \n28           159.0    1     6      1            18         2         0   \n29           295.0    2     7      0             7         0         6   \n...            ...  ...   ...    ...           ...       ...       ...   \n36902        244.0    1     6      3             2         2         0   \n36903        432.0    1     6      1             7         2         0   \n36904        128.0    0     6      2            18         1         0   \n36905       1689.0    0     7      4            11         1         6   \n36906        125.0    1     7      2             1         2         6   \n36907        380.0    0     3      2            19         1         4   \n36908        109.0    2     1      3             8         0         2   \n36909        206.0    2     7      2             2         0         6   \n36910        212.0    2     2      1            11         0         3   \n36911        464.0    2     2      3             2         0         3   \n36912        703.0    1     7      4             8         2         6   \n36913        149.0    1     7      1            14         2         6   \n36914       1254.0    2     7      4             5         0         6   \n36915        127.0    2     3      3             1         0         4   \n36916        397.0    1     6      4            17         2         0   \n36917        772.0    1     6      4             2         2         0   \n36918       1100.0    0     7      4            11         1         6   \n36919        312.0    2     7      1             6         0         6   \n36920        327.0    2     7      4             5         0         6   \n36921        153.0    0     6      1            17         1         0   \n36922        287.0    0     6      0            13         1         0   \n36923        385.0    2     7      3             0         0         6   \n36924        263.0    1     6      0             8         2         0   \n36925        661.0    2     6      3             7         0         0   \n36926        194.0    1     2      3             2         2         3   \n36927        464.0    0     6      1             1         1         0   \n36928        233.0    0     6      3            11         1         0   \n36929        724.0    1     6      4            10         2         0   \n36930        639.0    0     2      4             9         1         3   \n36931        369.0    1     4      4             0         2         7   \n\n       StratID3  StratificationType   Latitute   Longitute  stratIDTotal  \n0             1                   2  36.349640  -80.763515             7  \n1             4                   3  28.932040  -81.928961             4  \n2             0                   0  35.227087  -80.843127             6  \n3             4                   3  39.493240 -117.071841             6  \n4             3                   3  40.485010  -88.997710             6  \n5             3                   0  32.776664  -96.796988             7  \n6             1                   0  34.108345 -117.289765             5  \n7             2                   3  39.290581  -76.609260             6  \n8             0                   3  28.932040  -81.928961             2  \n9             3                   3  43.682630 -114.363730             9  \n10            2                   3  44.393191  -89.816371             4  \n11            0                   0  43.038903  -87.906474             4  \n12            2                   3  39.290581  -76.609260             6  \n13            0                   0  41.878114  -87.629798             6  \n14            1                   3  39.493240 -117.071841             1  \n15            3                   3  31.827240  -99.426770            11  \n16            3                   3  32.839681  -83.627580             9  \n17            3                   0  42.360083  -71.058880             4  \n18            1                   0  26.651450  -80.276733             1  \n19            4                   3  47.066529 -109.424421            12  \n20            1                   0  34.108345 -117.289765             7  \n21            0                   0  39.952584  -75.165222             7  \n22            4                   3  42.827001  -75.543970             6  \n23            2                   3  44.353130 -100.373531            10  \n24            0                   3  42.469401  -93.816491             8  \n25            3                   3  32.745510  -89.538031             7  \n26            4                   3  37.542681  -78.457890             7  \n27            2                   3  28.932040  -81.928961             8  \n28            3                   0  39.952584  -75.165222             5  \n29            2                   3  41.641041  -99.365721             8  \n...         ...                 ...        ...         ...           ...  \n36902         1                   0  28.484500  -81.251883             3  \n36903         3                   3  47.066529 -109.424421             5  \n36904         4                   0  25.551603  -80.632692             5  \n36905         0                   3  47.066529 -109.424421             7  \n36906         4                   3  40.130570  -74.273691            12  \n36907         4                   1  36.349640  -80.763515             9  \n36908         1                   0  47.606210 -122.332071             3  \n36909         4                   3  44.393191  -89.816371            10  \n36910         3                   3  28.932040  -81.928961             6  \n36911         1                   0  42.331427  -83.045754             4  \n36912         0                   3  47.475320 -100.118421             8  \n36913         3                   3  41.562661  -72.649841            11  \n36914         0                   3  39.008831  -75.577741             6  \n36915         1                   3  39.290581  -76.609260             5  \n36916         0                   0  34.108345 -117.289765             2  \n36917         0                   3  32.839681  -83.627580             2  \n36918         0                   3  37.542681  -78.457890             7  \n36919         3                   3  38.347740  -98.200781             9  \n36920         0                   3  31.312661  -92.445680             6  \n36921         3                   3  21.304850 -157.857749             4  \n36922         2                   0  29.760427  -95.369803             3  \n36923         1                   3  39.008831  -75.577741             7  \n36924         2                   3  38.635791  -92.566300             4  \n36925         1                   4  15.097900  145.673900             1  \n36926         1                   3  31.827240  -99.426770             6  \n36927         3                   3  42.276870  -72.082691             4  \n36928         1                   3  35.472031  -97.521070             2  \n36929         0                   3  32.745510  -89.538031             2  \n36930         0                   0  36.349640  -80.763515             4  \n36931         0                   1  36.349640  -80.763515             9  \n\n[36932 rows x 17 columns]"
     ]
    }
   ],
   "source": [
    "predictions = model.predict(test)"
   ]
  },
  {
   "cell_type": "code",
   "execution_count": 119,
   "metadata": {},
   "outputs": [],
   "source": [
    "pred = pd.DataFrame(pred)"
   ]
  },
  {
   "cell_type": "code",
   "execution_count": 121,
   "metadata": {},
   "outputs": [],
   "source": [
    "pred.to_csv(\"RFS2\",index = False)"
   ]
  },
  {
   "cell_type": "code",
   "execution_count": 145,
   "metadata": {},
   "outputs": [
    {
     "ename": "TypeError",
     "evalue": "'int' object is not iterable",
     "output_type": "error",
     "traceback": [
      "\u001b[1;31m---------------------------------------------------------------------------\u001b[0m",
      "\u001b[1;31mValueError\u001b[0m                                Traceback (most recent call last)",
      "\u001b[1;32mC:\\ProgramData\\Anaconda3\\lib\\site-packages\\pandas\\core\\common.py\u001b[0m in \u001b[0;36m_asarray_tuplesafe\u001b[1;34m(values, dtype)\u001b[0m\n\u001b[0;32m    398\u001b[0m                 \u001b[0mresult\u001b[0m \u001b[1;33m=\u001b[0m \u001b[0mnp\u001b[0m\u001b[1;33m.\u001b[0m\u001b[0mempty\u001b[0m\u001b[1;33m(\u001b[0m\u001b[0mlen\u001b[0m\u001b[1;33m(\u001b[0m\u001b[0mvalues\u001b[0m\u001b[1;33m)\u001b[0m\u001b[1;33m,\u001b[0m \u001b[0mdtype\u001b[0m\u001b[1;33m=\u001b[0m\u001b[0mobject\u001b[0m\u001b[1;33m)\u001b[0m\u001b[1;33m\u001b[0m\u001b[0m\n\u001b[1;32m--> 399\u001b[1;33m                 \u001b[0mresult\u001b[0m\u001b[1;33m[\u001b[0m\u001b[1;33m:\u001b[0m\u001b[1;33m]\u001b[0m \u001b[1;33m=\u001b[0m \u001b[0mvalues\u001b[0m\u001b[1;33m\u001b[0m\u001b[0m\n\u001b[0m\u001b[0;32m    400\u001b[0m             \u001b[1;32mexcept\u001b[0m \u001b[0mValueError\u001b[0m\u001b[1;33m:\u001b[0m\u001b[1;33m\u001b[0m\u001b[0m\n",
      "\u001b[1;31mValueError\u001b[0m: could not broadcast input array from shape (36932,1) into shape (36932)",
      "\nDuring handling of the above exception, another exception occurred:\n",
      "\u001b[1;31mTypeError\u001b[0m                                 Traceback (most recent call last)",
      "\u001b[1;32m<ipython-input-145-09a0984c8d55>\u001b[0m in \u001b[0;36m<module>\u001b[1;34m()\u001b[0m\n\u001b[1;32m----> 1\u001b[1;33m \u001b[0mfinal_result\u001b[0m \u001b[1;33m=\u001b[0m \u001b[0mpd\u001b[0m\u001b[1;33m.\u001b[0m\u001b[0mDataFrame\u001b[0m\u001b[1;33m(\u001b[0m\u001b[1;33m{\u001b[0m\u001b[1;34m'Patient_ID'\u001b[0m\u001b[1;33m:\u001b[0m\u001b[0mtes\u001b[0m\u001b[1;33m[\u001b[0m\u001b[1;34m'Patient_ID'\u001b[0m\u001b[1;33m]\u001b[0m\u001b[1;33m,\u001b[0m\u001b[1;34m'Greater_Risk_Probability'\u001b[0m\u001b[1;33m:\u001b[0m\u001b[0mpred\u001b[0m\u001b[1;33m}\u001b[0m\u001b[1;33m)\u001b[0m\u001b[1;33m\u001b[0m\u001b[0m\n\u001b[0m\u001b[0;32m      2\u001b[0m \u001b[0mfinal_result\u001b[0m \u001b[1;33m=\u001b[0m \u001b[0mfinal_result\u001b[0m\u001b[1;33m[\u001b[0m\u001b[1;33m[\u001b[0m\u001b[1;34m\"Patient_ID\"\u001b[0m\u001b[1;33m,\u001b[0m\u001b[1;34m\"Greater_Risk_Probability\"\u001b[0m\u001b[1;33m]\u001b[0m\u001b[1;33m]\u001b[0m\u001b[1;33m\u001b[0m\u001b[0m\n\u001b[0;32m      3\u001b[0m \u001b[0mfinal_result\u001b[0m\u001b[1;33m.\u001b[0m\u001b[0mto_csv\u001b[0m\u001b[1;33m(\u001b[0m\u001b[1;34m'RfSolution2.csv'\u001b[0m\u001b[1;33m,\u001b[0m\u001b[0mindex\u001b[0m\u001b[1;33m=\u001b[0m\u001b[1;32mFalse\u001b[0m\u001b[1;33m)\u001b[0m\u001b[1;33m\u001b[0m\u001b[0m\n",
      "\u001b[1;32mC:\\ProgramData\\Anaconda3\\lib\\site-packages\\pandas\\core\\frame.py\u001b[0m in \u001b[0;36m__init__\u001b[1;34m(self, data, index, columns, dtype, copy)\u001b[0m\n\u001b[0;32m    328\u001b[0m                                  dtype=dtype, copy=copy)\n\u001b[0;32m    329\u001b[0m         \u001b[1;32melif\u001b[0m \u001b[0misinstance\u001b[0m\u001b[1;33m(\u001b[0m\u001b[0mdata\u001b[0m\u001b[1;33m,\u001b[0m \u001b[0mdict\u001b[0m\u001b[1;33m)\u001b[0m\u001b[1;33m:\u001b[0m\u001b[1;33m\u001b[0m\u001b[0m\n\u001b[1;32m--> 330\u001b[1;33m             \u001b[0mmgr\u001b[0m \u001b[1;33m=\u001b[0m \u001b[0mself\u001b[0m\u001b[1;33m.\u001b[0m\u001b[0m_init_dict\u001b[0m\u001b[1;33m(\u001b[0m\u001b[0mdata\u001b[0m\u001b[1;33m,\u001b[0m \u001b[0mindex\u001b[0m\u001b[1;33m,\u001b[0m \u001b[0mcolumns\u001b[0m\u001b[1;33m,\u001b[0m \u001b[0mdtype\u001b[0m\u001b[1;33m=\u001b[0m\u001b[0mdtype\u001b[0m\u001b[1;33m)\u001b[0m\u001b[1;33m\u001b[0m\u001b[0m\n\u001b[0m\u001b[0;32m    331\u001b[0m         \u001b[1;32melif\u001b[0m \u001b[0misinstance\u001b[0m\u001b[1;33m(\u001b[0m\u001b[0mdata\u001b[0m\u001b[1;33m,\u001b[0m \u001b[0mma\u001b[0m\u001b[1;33m.\u001b[0m\u001b[0mMaskedArray\u001b[0m\u001b[1;33m)\u001b[0m\u001b[1;33m:\u001b[0m\u001b[1;33m\u001b[0m\u001b[0m\n\u001b[0;32m    332\u001b[0m             \u001b[1;32mimport\u001b[0m \u001b[0mnumpy\u001b[0m\u001b[1;33m.\u001b[0m\u001b[0mma\u001b[0m\u001b[1;33m.\u001b[0m\u001b[0mmrecords\u001b[0m \u001b[1;32mas\u001b[0m \u001b[0mmrecords\u001b[0m\u001b[1;33m\u001b[0m\u001b[0m\n",
      "\u001b[1;32mC:\\ProgramData\\Anaconda3\\lib\\site-packages\\pandas\\core\\frame.py\u001b[0m in \u001b[0;36m_init_dict\u001b[1;34m(self, data, index, columns, dtype)\u001b[0m\n\u001b[0;32m    459\u001b[0m             \u001b[0marrays\u001b[0m \u001b[1;33m=\u001b[0m \u001b[1;33m[\u001b[0m\u001b[0mdata\u001b[0m\u001b[1;33m[\u001b[0m\u001b[0mk\u001b[0m\u001b[1;33m]\u001b[0m \u001b[1;32mfor\u001b[0m \u001b[0mk\u001b[0m \u001b[1;32min\u001b[0m \u001b[0mkeys\u001b[0m\u001b[1;33m]\u001b[0m\u001b[1;33m\u001b[0m\u001b[0m\n\u001b[0;32m    460\u001b[0m \u001b[1;33m\u001b[0m\u001b[0m\n\u001b[1;32m--> 461\u001b[1;33m         \u001b[1;32mreturn\u001b[0m \u001b[0m_arrays_to_mgr\u001b[0m\u001b[1;33m(\u001b[0m\u001b[0marrays\u001b[0m\u001b[1;33m,\u001b[0m \u001b[0mdata_names\u001b[0m\u001b[1;33m,\u001b[0m \u001b[0mindex\u001b[0m\u001b[1;33m,\u001b[0m \u001b[0mcolumns\u001b[0m\u001b[1;33m,\u001b[0m \u001b[0mdtype\u001b[0m\u001b[1;33m=\u001b[0m\u001b[0mdtype\u001b[0m\u001b[1;33m)\u001b[0m\u001b[1;33m\u001b[0m\u001b[0m\n\u001b[0m\u001b[0;32m    462\u001b[0m \u001b[1;33m\u001b[0m\u001b[0m\n\u001b[0;32m    463\u001b[0m     \u001b[1;32mdef\u001b[0m \u001b[0m_init_ndarray\u001b[0m\u001b[1;33m(\u001b[0m\u001b[0mself\u001b[0m\u001b[1;33m,\u001b[0m \u001b[0mvalues\u001b[0m\u001b[1;33m,\u001b[0m \u001b[0mindex\u001b[0m\u001b[1;33m,\u001b[0m \u001b[0mcolumns\u001b[0m\u001b[1;33m,\u001b[0m \u001b[0mdtype\u001b[0m\u001b[1;33m=\u001b[0m\u001b[1;32mNone\u001b[0m\u001b[1;33m,\u001b[0m \u001b[0mcopy\u001b[0m\u001b[1;33m=\u001b[0m\u001b[1;32mFalse\u001b[0m\u001b[1;33m)\u001b[0m\u001b[1;33m:\u001b[0m\u001b[1;33m\u001b[0m\u001b[0m\n",
      "\u001b[1;32mC:\\ProgramData\\Anaconda3\\lib\\site-packages\\pandas\\core\\frame.py\u001b[0m in \u001b[0;36m_arrays_to_mgr\u001b[1;34m(arrays, arr_names, index, columns, dtype)\u001b[0m\n\u001b[0;32m   6166\u001b[0m \u001b[1;33m\u001b[0m\u001b[0m\n\u001b[0;32m   6167\u001b[0m     \u001b[1;31m# don't force copy because getting jammed in an ndarray anyway\u001b[0m\u001b[1;33m\u001b[0m\u001b[1;33m\u001b[0m\u001b[0m\n\u001b[1;32m-> 6168\u001b[1;33m     \u001b[0marrays\u001b[0m \u001b[1;33m=\u001b[0m \u001b[0m_homogenize\u001b[0m\u001b[1;33m(\u001b[0m\u001b[0marrays\u001b[0m\u001b[1;33m,\u001b[0m \u001b[0mindex\u001b[0m\u001b[1;33m,\u001b[0m \u001b[0mdtype\u001b[0m\u001b[1;33m)\u001b[0m\u001b[1;33m\u001b[0m\u001b[0m\n\u001b[0m\u001b[0;32m   6169\u001b[0m \u001b[1;33m\u001b[0m\u001b[0m\n\u001b[0;32m   6170\u001b[0m     \u001b[1;31m# from BlockManager perspective\u001b[0m\u001b[1;33m\u001b[0m\u001b[1;33m\u001b[0m\u001b[0m\n",
      "\u001b[1;32mC:\\ProgramData\\Anaconda3\\lib\\site-packages\\pandas\\core\\frame.py\u001b[0m in \u001b[0;36m_homogenize\u001b[1;34m(data, index, dtype)\u001b[0m\n\u001b[0;32m   6475\u001b[0m                 \u001b[0mv\u001b[0m \u001b[1;33m=\u001b[0m \u001b[0mlib\u001b[0m\u001b[1;33m.\u001b[0m\u001b[0mfast_multiget\u001b[0m\u001b[1;33m(\u001b[0m\u001b[0mv\u001b[0m\u001b[1;33m,\u001b[0m \u001b[0moindex\u001b[0m\u001b[1;33m.\u001b[0m\u001b[0mvalues\u001b[0m\u001b[1;33m,\u001b[0m \u001b[0mdefault\u001b[0m\u001b[1;33m=\u001b[0m\u001b[0mnp\u001b[0m\u001b[1;33m.\u001b[0m\u001b[0mnan\u001b[0m\u001b[1;33m)\u001b[0m\u001b[1;33m\u001b[0m\u001b[0m\n\u001b[0;32m   6476\u001b[0m             v = _sanitize_array(v, index, dtype=dtype, copy=False,\n\u001b[1;32m-> 6477\u001b[1;33m                                 raise_cast_failure=False)\n\u001b[0m\u001b[0;32m   6478\u001b[0m \u001b[1;33m\u001b[0m\u001b[0m\n\u001b[0;32m   6479\u001b[0m         \u001b[0mhomogenized\u001b[0m\u001b[1;33m.\u001b[0m\u001b[0mappend\u001b[0m\u001b[1;33m(\u001b[0m\u001b[0mv\u001b[0m\u001b[1;33m)\u001b[0m\u001b[1;33m\u001b[0m\u001b[0m\n",
      "\u001b[1;32mC:\\ProgramData\\Anaconda3\\lib\\site-packages\\pandas\\core\\series.py\u001b[0m in \u001b[0;36m_sanitize_array\u001b[1;34m(data, index, dtype, copy, raise_cast_failure)\u001b[0m\n\u001b[0;32m   3275\u001b[0m             \u001b[1;32mraise\u001b[0m \u001b[0mException\u001b[0m\u001b[1;33m(\u001b[0m\u001b[1;34m'Data must be 1-dimensional'\u001b[0m\u001b[1;33m)\u001b[0m\u001b[1;33m\u001b[0m\u001b[0m\n\u001b[0;32m   3276\u001b[0m         \u001b[1;32melse\u001b[0m\u001b[1;33m:\u001b[0m\u001b[1;33m\u001b[0m\u001b[0m\n\u001b[1;32m-> 3277\u001b[1;33m             \u001b[0msubarr\u001b[0m \u001b[1;33m=\u001b[0m \u001b[0m_asarray_tuplesafe\u001b[0m\u001b[1;33m(\u001b[0m\u001b[0mdata\u001b[0m\u001b[1;33m,\u001b[0m \u001b[0mdtype\u001b[0m\u001b[1;33m=\u001b[0m\u001b[0mdtype\u001b[0m\u001b[1;33m)\u001b[0m\u001b[1;33m\u001b[0m\u001b[0m\n\u001b[0m\u001b[0;32m   3278\u001b[0m \u001b[1;33m\u001b[0m\u001b[0m\n\u001b[0;32m   3279\u001b[0m     \u001b[1;31m# This is to prevent mixed-type Series getting all casted to\u001b[0m\u001b[1;33m\u001b[0m\u001b[1;33m\u001b[0m\u001b[0m\n",
      "\u001b[1;32mC:\\ProgramData\\Anaconda3\\lib\\site-packages\\pandas\\core\\common.py\u001b[0m in \u001b[0;36m_asarray_tuplesafe\u001b[1;34m(values, dtype)\u001b[0m\n\u001b[0;32m    400\u001b[0m             \u001b[1;32mexcept\u001b[0m \u001b[0mValueError\u001b[0m\u001b[1;33m:\u001b[0m\u001b[1;33m\u001b[0m\u001b[0m\n\u001b[0;32m    401\u001b[0m                 \u001b[1;31m# we have a list-of-list\u001b[0m\u001b[1;33m\u001b[0m\u001b[1;33m\u001b[0m\u001b[0m\n\u001b[1;32m--> 402\u001b[1;33m                 \u001b[0mresult\u001b[0m\u001b[1;33m[\u001b[0m\u001b[1;33m:\u001b[0m\u001b[1;33m]\u001b[0m \u001b[1;33m=\u001b[0m \u001b[1;33m[\u001b[0m\u001b[0mtuple\u001b[0m\u001b[1;33m(\u001b[0m\u001b[0mx\u001b[0m\u001b[1;33m)\u001b[0m \u001b[1;32mfor\u001b[0m \u001b[0mx\u001b[0m \u001b[1;32min\u001b[0m \u001b[0mvalues\u001b[0m\u001b[1;33m]\u001b[0m\u001b[1;33m\u001b[0m\u001b[0m\n\u001b[0m\u001b[0;32m    403\u001b[0m \u001b[1;33m\u001b[0m\u001b[0m\n\u001b[0;32m    404\u001b[0m     \u001b[1;32mreturn\u001b[0m \u001b[0mresult\u001b[0m\u001b[1;33m\u001b[0m\u001b[0m\n",
      "\u001b[1;32mC:\\ProgramData\\Anaconda3\\lib\\site-packages\\pandas\\core\\common.py\u001b[0m in \u001b[0;36m<listcomp>\u001b[1;34m(.0)\u001b[0m\n\u001b[0;32m    400\u001b[0m             \u001b[1;32mexcept\u001b[0m \u001b[0mValueError\u001b[0m\u001b[1;33m:\u001b[0m\u001b[1;33m\u001b[0m\u001b[0m\n\u001b[0;32m    401\u001b[0m                 \u001b[1;31m# we have a list-of-list\u001b[0m\u001b[1;33m\u001b[0m\u001b[1;33m\u001b[0m\u001b[0m\n\u001b[1;32m--> 402\u001b[1;33m                 \u001b[0mresult\u001b[0m\u001b[1;33m[\u001b[0m\u001b[1;33m:\u001b[0m\u001b[1;33m]\u001b[0m \u001b[1;33m=\u001b[0m \u001b[1;33m[\u001b[0m\u001b[0mtuple\u001b[0m\u001b[1;33m(\u001b[0m\u001b[0mx\u001b[0m\u001b[1;33m)\u001b[0m \u001b[1;32mfor\u001b[0m \u001b[0mx\u001b[0m \u001b[1;32min\u001b[0m \u001b[0mvalues\u001b[0m\u001b[1;33m]\u001b[0m\u001b[1;33m\u001b[0m\u001b[0m\n\u001b[0m\u001b[0;32m    403\u001b[0m \u001b[1;33m\u001b[0m\u001b[0m\n\u001b[0;32m    404\u001b[0m     \u001b[1;32mreturn\u001b[0m \u001b[0mresult\u001b[0m\u001b[1;33m\u001b[0m\u001b[0m\n",
      "\u001b[1;31mTypeError\u001b[0m: 'int' object is not iterable"
     ]
    }
   ],
   "source": [
    "final_result = pd.DataFrame({'Patient_ID':tes['Patient_ID'],'Greater_Risk_Probability':pred})\n",
    "final_result = final_result[[\"Patient_ID\",\"Greater_Risk_Probability\"]]\n",
    "final_result.to_csv('RfSolution2.csv',index=False)"
   ]
  },
  {
   "cell_type": "code",
   "execution_count": 109,
   "metadata": {},
   "outputs": [],
   "source": [
    "import xgboost as xgb"
   ]
  },
  {
   "cell_type": "code",
   "execution_count": 110,
   "metadata": {},
   "outputs": [],
   "source": [
    "boost_params = {'eval_metric': 'rmse'}\n",
    "xgb0 = xgb.XGBRegressor(\n",
    "    max_depth=8,\n",
    "    learning_rate=0.01,\n",
    "    n_estimators=1200,\n",
    "    objective='reg:linear',\n",
    "    gamma=0,\n",
    "    min_child_weight=1,\n",
    "    subsample=1,\n",
    "    colsample_bytree=1,\n",
    "    scale_pos_weight=1,\n",
    "    seed=27,\n",
    "    **boost_params)"
   ]
  },
  {
   "cell_type": "code",
   "execution_count": 111,
   "metadata": {},
   "outputs": [
    {
     "data": {
      "text/plain": [
       "XGBRegressor(base_score=0.5, booster='gbtree', colsample_bylevel=1,\n",
       "       colsample_bytree=1, eval_metric='rmse', gamma=0,\n",
       "       importance_type='gain', learning_rate=0.01, max_delta_step=0,\n",
       "       max_depth=8, min_child_weight=1, missing=None, n_estimators=1200,\n",
       "       n_jobs=1, nthread=None, objective='reg:linear', random_state=0,\n",
       "       reg_alpha=0, reg_lambda=1, scale_pos_weight=1, seed=27, silent=True,\n",
       "       subsample=1)"
      ]
     },
     "execution_count": 111,
     "metadata": {},
     "output_type": "execute_result"
    }
   ],
   "source": [
    "xgb0.fit(train, y)"
   ]
  },
  {
   "cell_type": "code",
   "execution_count": 28,
   "metadata": {},
   "outputs": [
    {
     "ename": "NameError",
     "evalue": "name 'xgb0' is not defined",
     "output_type": "error",
     "traceback": [
      "\u001b[1;31m---------------------------------------------------------------------------\u001b[0m",
      "\u001b[1;31mNameError\u001b[0m                                 Traceback (most recent call last)",
      "\u001b[1;32m<ipython-input-28-a8239e02eb2d>\u001b[0m in \u001b[0;36m<module>\u001b[1;34m()\u001b[0m\n\u001b[1;32m----> 1\u001b[1;33m \u001b[0mpredict_y\u001b[0m \u001b[1;33m=\u001b[0m \u001b[0mxgb0\u001b[0m\u001b[1;33m.\u001b[0m\u001b[0mpredict\u001b[0m\u001b[1;33m(\u001b[0m\u001b[0mtest\u001b[0m\u001b[1;33m)\u001b[0m\u001b[1;33m\u001b[0m\u001b[0m\n\u001b[0m",
      "\u001b[1;31mNameError\u001b[0m: name 'xgb0' is not defined"
     ]
    }
   ],
   "source": [
    "predict_y = xgb0.predict(test)"
   ]
  },
  {
   "cell_type": "code",
   "execution_count": 27,
   "metadata": {},
   "outputs": [
    {
     "ename": "NameError",
     "evalue": "name 'predict_y' is not defined",
     "output_type": "error",
     "traceback": [
      "\u001b[1;31m---------------------------------------------------------------------------\u001b[0m",
      "\u001b[1;31mNameError\u001b[0m                                 Traceback (most recent call last)",
      "\u001b[1;32m<ipython-input-27-deb81be73c72>\u001b[0m in \u001b[0;36m<module>\u001b[1;34m()\u001b[0m\n\u001b[1;32m----> 1\u001b[1;33m \u001b[0mfinal_result\u001b[0m \u001b[1;33m=\u001b[0m \u001b[0mpd\u001b[0m\u001b[1;33m.\u001b[0m\u001b[0mDataFrame\u001b[0m\u001b[1;33m(\u001b[0m\u001b[1;33m{\u001b[0m\u001b[1;34m'Patient_ID'\u001b[0m\u001b[1;33m:\u001b[0m\u001b[0mtes\u001b[0m\u001b[1;33m[\u001b[0m\u001b[1;34m'Patient_ID'\u001b[0m\u001b[1;33m]\u001b[0m\u001b[1;33m,\u001b[0m\u001b[1;34m'Greater_Risk_Probability'\u001b[0m\u001b[1;33m:\u001b[0m\u001b[0mpredict_y\u001b[0m\u001b[1;33m}\u001b[0m\u001b[1;33m)\u001b[0m\u001b[1;33m\u001b[0m\u001b[0m\n\u001b[0m\u001b[0;32m      2\u001b[0m \u001b[0mfinal_result\u001b[0m \u001b[1;33m=\u001b[0m \u001b[0mfinal_result\u001b[0m\u001b[1;33m[\u001b[0m\u001b[1;33m[\u001b[0m\u001b[1;34m\"Patient_ID\"\u001b[0m\u001b[1;33m,\u001b[0m\u001b[1;34m\"Greater_Risk_Probability\"\u001b[0m\u001b[1;33m]\u001b[0m\u001b[1;33m]\u001b[0m\u001b[1;33m\u001b[0m\u001b[0m\n\u001b[0;32m      3\u001b[0m \u001b[0mfinal_result\u001b[0m\u001b[1;33m.\u001b[0m\u001b[0mto_csv\u001b[0m\u001b[1;33m(\u001b[0m\u001b[1;34m'xgbSolution3.csv'\u001b[0m\u001b[1;33m,\u001b[0m\u001b[0mindex\u001b[0m\u001b[1;33m=\u001b[0m\u001b[1;32mFalse\u001b[0m\u001b[1;33m)\u001b[0m\u001b[1;33m\u001b[0m\u001b[0m\n",
      "\u001b[1;31mNameError\u001b[0m: name 'predict_y' is not defined"
     ]
    }
   ],
   "source": [
    "final_result = pd.DataFrame({'Patient_ID':tes['Patient_ID'],'Greater_Risk_Probability':predict_y})\n",
    "final_result = final_result[[\"Patient_ID\",\"Greater_Risk_Probability\"]]\n",
    "final_result.to_csv('xgbSolution3.csv',index=False)"
   ]
  },
  {
   "cell_type": "code",
   "execution_count": 24,
   "metadata": {},
   "outputs": [],
   "source": [
    "import lightgbm as lgb\n",
    "\n",
    "d_train = lgb.Dataset(train, label=y)\n",
    "\n",
    "params = {}\n",
    "params['learning_rate'] = 0.003\n",
    "params['boosting_type'] = 'gbdt'\n",
    "#params['objective'] = 'reg:linear'\n",
    "params['metric'] = 'rmse'\n",
    "params['sub_feature'] = 0.5\n",
    "params['num_leaves'] = 10\n",
    "params['min_data'] = 50\n",
    "params['max_depth'] = 10\n",
    "\n",
    "clf = lgb.train(params, d_train,1000)"
   ]
  },
  {
   "cell_type": "code",
   "execution_count": 28,
   "metadata": {},
   "outputs": [],
   "source": [
    "predict_y = clf.predict(test)"
   ]
  },
  {
   "cell_type": "code",
   "execution_count": 29,
   "metadata": {},
   "outputs": [],
   "source": [
    "final_result = pd.DataFrame({'Patient_ID':te['Patient_ID'],'Greater_Risk_Probability':predict_y})\n",
    "final_result = final_result[[\"Patient_ID\",\"Greater_Risk_Probability\"]]\n",
    "final_result.to_csv('lgbsubmission.csv',index=False)"
   ]
  },
  {
   "cell_type": "code",
   "execution_count": 43,
   "metadata": {},
   "outputs": [
    {
     "data": {
      "text/plain": [
       "DecisionTreeRegressor(criterion='mse', max_depth=None, max_features=None,\n",
       "           max_leaf_nodes=None, min_impurity_decrease=0.0,\n",
       "           min_impurity_split=None, min_samples_leaf=1,\n",
       "           min_samples_split=2, min_weight_fraction_leaf=0.0,\n",
       "           presort=False, random_state=0, splitter='best')"
      ]
     },
     "execution_count": 43,
     "metadata": {},
     "output_type": "execute_result"
    }
   ],
   "source": [
    "# Fitting Decision Tree Regression to the dataset\n",
    "from sklearn.tree import DecisionTreeRegressor\n",
    "regressor = DecisionTreeRegressor(random_state = 0)\n",
    "regressor.fit(train, y)"
   ]
  },
  {
   "cell_type": "code",
   "execution_count": 44,
   "metadata": {},
   "outputs": [],
   "source": [
    "predict_y = regressor.predict(test)"
   ]
  },
  {
   "cell_type": "code",
   "execution_count": 45,
   "metadata": {},
   "outputs": [],
   "source": [
    "final_result = pd.DataFrame({'Patient_ID':te['Patient_ID'],'Greater_Risk_Probability':predict_y})\n",
    "final_result = final_result[[\"Patient_ID\",\"Greater_Risk_Probability\"]]\n",
    "final_result.to_csv('dtreesubmission.csv',index=False)"
   ]
  },
  {
   "cell_type": "code",
   "execution_count": 46,
   "metadata": {},
   "outputs": [
    {
     "data": {
      "text/plain": [
       "LinearRegression(copy_X=True, fit_intercept=True, n_jobs=1, normalize=False)"
      ]
     },
     "execution_count": 46,
     "metadata": {},
     "output_type": "execute_result"
    }
   ],
   "source": [
    "# Fitting Simple Linear Regression to the Training set\n",
    "from sklearn.linear_model import LinearRegression\n",
    "regressor = LinearRegression()\n",
    "regressor.fit(train, y)"
   ]
  },
  {
   "cell_type": "code",
   "execution_count": 47,
   "metadata": {},
   "outputs": [],
   "source": [
    "predict_y = regressor.predict(test)"
   ]
  },
  {
   "cell_type": "code",
   "execution_count": 48,
   "metadata": {},
   "outputs": [],
   "source": [
    "final_result = pd.DataFrame({'Patient_ID':te['Patient_ID'],'Greater_Risk_Probability':predict_y})\n",
    "final_result = final_result[[\"Patient_ID\",\"Greater_Risk_Probability\"]]\n",
    "final_result.to_csv('linregsubmission.csv',index=False)"
   ]
  },
  {
   "cell_type": "code",
   "execution_count": 25,
   "metadata": {},
   "outputs": [
    {
     "data": {
      "text/html": [
       "<div>\n",
       "<style scoped>\n",
       "    .dataframe tbody tr th:only-of-type {\n",
       "        vertical-align: middle;\n",
       "    }\n",
       "\n",
       "    .dataframe tbody tr th {\n",
       "        vertical-align: top;\n",
       "    }\n",
       "\n",
       "    .dataframe thead th {\n",
       "        text-align: right;\n",
       "    }\n",
       "</style>\n",
       "<table border=\"1\" class=\"dataframe\">\n",
       "  <thead>\n",
       "    <tr style=\"text-align: right;\">\n",
       "      <th></th>\n",
       "      <th>YEAR</th>\n",
       "      <th>LocationDesc</th>\n",
       "      <th>Subtopic</th>\n",
       "      <th>Greater_Risk_Question</th>\n",
       "      <th>Description</th>\n",
       "      <th>Sample_Size</th>\n",
       "      <th>Sex</th>\n",
       "      <th>Race</th>\n",
       "      <th>Grade</th>\n",
       "      <th>QuestionCode</th>\n",
       "      <th>StratID1</th>\n",
       "      <th>StratID2</th>\n",
       "      <th>StratID3</th>\n",
       "      <th>StratificationType</th>\n",
       "      <th>Latitute</th>\n",
       "      <th>Longitute</th>\n",
       "      <th>stratIDTotal</th>\n",
       "    </tr>\n",
       "  </thead>\n",
       "  <tbody>\n",
       "    <tr>\n",
       "      <th>0</th>\n",
       "      <td>1995</td>\n",
       "      <td>32</td>\n",
       "      <td>1</td>\n",
       "      <td>6</td>\n",
       "      <td>7</td>\n",
       "      <td>335.0</td>\n",
       "      <td>0</td>\n",
       "      <td>3</td>\n",
       "      <td>4</td>\n",
       "      <td>9</td>\n",
       "      <td>1</td>\n",
       "      <td>4</td>\n",
       "      <td>0</td>\n",
       "      <td>0</td>\n",
       "      <td>29.760427</td>\n",
       "      <td>-95.369803</td>\n",
       "      <td>5</td>\n",
       "    </tr>\n",
       "    <tr>\n",
       "      <th>1</th>\n",
       "      <td>1997</td>\n",
       "      <td>32</td>\n",
       "      <td>0</td>\n",
       "      <td>0</td>\n",
       "      <td>8</td>\n",
       "      <td>382.0</td>\n",
       "      <td>2</td>\n",
       "      <td>2</td>\n",
       "      <td>4</td>\n",
       "      <td>2</td>\n",
       "      <td>0</td>\n",
       "      <td>3</td>\n",
       "      <td>0</td>\n",
       "      <td>0</td>\n",
       "      <td>29.760427</td>\n",
       "      <td>-95.369803</td>\n",
       "      <td>3</td>\n",
       "    </tr>\n",
       "    <tr>\n",
       "      <th>2</th>\n",
       "      <td>1993</td>\n",
       "      <td>54</td>\n",
       "      <td>0</td>\n",
       "      <td>14</td>\n",
       "      <td>14</td>\n",
       "      <td>196.0</td>\n",
       "      <td>0</td>\n",
       "      <td>7</td>\n",
       "      <td>0</td>\n",
       "      <td>1</td>\n",
       "      <td>1</td>\n",
       "      <td>6</td>\n",
       "      <td>2</td>\n",
       "      <td>3</td>\n",
       "      <td>39.493240</td>\n",
       "      <td>-117.071841</td>\n",
       "      <td>9</td>\n",
       "    </tr>\n",
       "    <tr>\n",
       "      <th>3</th>\n",
       "      <td>2017</td>\n",
       "      <td>71</td>\n",
       "      <td>1</td>\n",
       "      <td>6</td>\n",
       "      <td>7</td>\n",
       "      <td>104.0</td>\n",
       "      <td>1</td>\n",
       "      <td>1</td>\n",
       "      <td>4</td>\n",
       "      <td>9</td>\n",
       "      <td>2</td>\n",
       "      <td>2</td>\n",
       "      <td>0</td>\n",
       "      <td>3</td>\n",
       "      <td>40.793730</td>\n",
       "      <td>-77.860700</td>\n",
       "      <td>4</td>\n",
       "    </tr>\n",
       "    <tr>\n",
       "      <th>4</th>\n",
       "      <td>2007</td>\n",
       "      <td>77</td>\n",
       "      <td>1</td>\n",
       "      <td>5</td>\n",
       "      <td>15</td>\n",
       "      <td>100.0</td>\n",
       "      <td>0</td>\n",
       "      <td>4</td>\n",
       "      <td>4</td>\n",
       "      <td>15</td>\n",
       "      <td>1</td>\n",
       "      <td>7</td>\n",
       "      <td>0</td>\n",
       "      <td>0</td>\n",
       "      <td>37.774930</td>\n",
       "      <td>-122.419416</td>\n",
       "      <td>8</td>\n",
       "    </tr>\n",
       "  </tbody>\n",
       "</table>\n",
       "</div>"
      ],
      "text/plain": [
       "   YEAR  LocationDesc  Subtopic  Greater_Risk_Question  Description  \\\n",
       "0  1995            32         1                      6            7   \n",
       "1  1997            32         0                      0            8   \n",
       "2  1993            54         0                     14           14   \n",
       "3  2017            71         1                      6            7   \n",
       "4  2007            77         1                      5           15   \n",
       "\n",
       "   Sample_Size  Sex  Race  Grade  QuestionCode  StratID1  StratID2  StratID3  \\\n",
       "0        335.0    0     3      4             9         1         4         0   \n",
       "1        382.0    2     2      4             2         0         3         0   \n",
       "2        196.0    0     7      0             1         1         6         2   \n",
       "3        104.0    1     1      4             9         2         2         0   \n",
       "4        100.0    0     4      4            15         1         7         0   \n",
       "\n",
       "   StratificationType   Latitute   Longitute  stratIDTotal  \n",
       "0                   0  29.760427  -95.369803             5  \n",
       "1                   0  29.760427  -95.369803             3  \n",
       "2                   3  39.493240 -117.071841             9  \n",
       "3                   3  40.793730  -77.860700             4  \n",
       "4                   0  37.774930 -122.419416             8  "
      ]
     },
     "execution_count": 25,
     "metadata": {},
     "output_type": "execute_result"
    }
   ],
   "source": [
    "train.head()"
   ]
  },
  {
   "cell_type": "code",
   "execution_count": null,
   "metadata": {},
   "outputs": [],
   "source": []
  },
  {
   "cell_type": "code",
   "execution_count": 23,
   "metadata": {},
   "outputs": [
    {
     "name": "stdout",
     "output_type": "stream",
     "text": [
      "WARNING:tensorflow:From C:\\ProgramData\\Anaconda3\\lib\\site-packages\\tensorflow\\python\\framework\\op_def_library.py:263: colocate_with (from tensorflow.python.framework.ops) is deprecated and will be removed in a future version.\n",
      "Instructions for updating:\n",
      "Colocations handled automatically by placer.\n"
     ]
    }
   ],
   "source": [
    "#imports\n",
    "import tensorflow as tf\n",
    "from tensorflow import keras\n",
    "from keras import Sequential\n",
    "from keras.layers import Dense\n",
    "\n",
    "#build our model\n",
    "model = Sequential()\n",
    "\n",
    "model.add(Dense(50, activation='relu'))\n",
    "model.add(Dense(100, activation='relu'))\n",
    "model.add(Dense(50, activation='relu'))\n",
    "model.add(Dense(1))\n",
    "\n",
    "model.compile(loss='mean_squared_error', optimizer='adam')"
   ]
  },
  {
   "cell_type": "code",
   "execution_count": 24,
   "metadata": {},
   "outputs": [
    {
     "ename": "ValueError",
     "evalue": "Please provide as model inputs either a single array or a list of arrays. You passed: x=       YEAR  LocationDesc  Subtopic  Greater_Risk_Question  Description  \\\n0      1995            32         1                      6            7   \n1      1997            32         0                      0            8   \n2      1993            54         0                     14           14   \n3      2017            71         1                      6            7   \n4      2007            77         1                      5           15   \n5      2015            72         1                     10           16   \n6      2009            76         0                      0            8   \n7      2007            85         0                      0            8   \n8      2017            88         1                     19           11   \n9      1999            31         1                     10           16   \n10     2009            60         0                     14           14   \n11     1995            30         1                     10           16   \n12     2007            51         1                     11            6   \n13     2005            59         1                      9            2   \n14     2011            51         0                     14           14   \n15     2011            60         1                     10           16   \n16     2007            47         1                     10           16   \n17     2007            42         1                     19           11   \n18     2007             8         1                      5           15   \n19     1993            85         0                      0            8   \n20     2017            19         0                      0            8   \n21     2005            29         0                      2            9   \n22     2013            12         1                      9            2   \n23     1999            50         1                      1            5   \n24     1997            36         1                      5           15   \n25     2007            43         1                      9            2   \n26     2017            31         0                      0            8   \n27     1997            80         1                      6            7   \n28     2017            84         1                     13            0   \n29     2015            46         1                      5           15   \n...     ...           ...       ...                    ...          ...   \n55369  2003            24         1                     17            4   \n55370  2007            84         0                     18           12   \n55371  2003            29         1                      5           15   \n55372  2017            85         0                      2            9   \n55373  2017             3         0                      0            8   \n55374  2007            86         1                      9            2   \n55375  2009            29         0                      2            9   \n55376  1997            84         0                      2            9   \n55377  2017            82         0                     15           19   \n55378  2015            74         1                      9            2   \n55379  2017            44         1                      9            2   \n55380  2001            69         1                      3           18   \n55381  2005            29         1                      9            2   \n55382  2017            72         1                     17            4   \n55383  1997            50         1                      1            5   \n55384  2007            63         0                      2            9   \n55385  2007            36         0                      0            8   \n55386  2005             5         1                      5           15   \n55387  2001            30         1                     19           11   \n55388  2011            89         1                     17            4   \n55389  2001            86         0                     14           14   \n55390  2011            48         1                     12            3   \n55391  2013            55         0                     14           14   \n55392  2015            86         1                     17            4   \n55393  2015            88         1                      1            5   \n55394  2005            19         0                     14           14   \n55395  2005            53         1                      1            5   \n55396  2007            42         0                     14           14   \n55397  2011            83         0                      2            9   \n55398  2001            20         1                      3           18   \n\n       Sample_Size  Sex  Race  Grade  QuestionCode  StratID1  StratID2  \\\n0            335.0    0     3      4             9         1         4   \n1            382.0    2     2      4             2         0         3   \n2            196.0    0     7      0             1         1         6   \n3            104.0    1     1      4             9         2         2   \n4            100.0    0     4      4            15         1         7   \n5            108.0    1     2      3            10         2         3   \n6            230.0    0     6      1             2         1         0   \n7            180.0    1     6      1             2         2         0   \n8            427.0    2     6      1            18         0         0   \n9            314.0    2     6      1            10         0         0   \n10           112.0    1     1      2             1         2         2   \n11            98.0    1     1      4            10         2         2   \n12           776.0    2     7      0             6         0         6   \n13           357.0    0     2      3            11         1         3   \n14           887.0    2     7      3             1         0         6   \n15           145.0    1     7      1            10         2         6   \n16           306.0    2     2      4            10         0         3   \n17           435.0    2     5      3            18         0         5   \n18           284.0    2     6      2            15         0         0   \n19          2149.0    1     6      4             2         2         0   \n20          1102.0    2     7      4             2         0         6   \n21           319.0    0     2      4             0         1         3   \n22           144.0    1     6      1            11         2         0   \n23           130.0    2     2      3             8         0         3   \n24           341.0    2     6      1            15         0         0   \n25           205.0    2     7      0            11         0         6   \n26           809.0    0     6      1             2         1         0   \n27           907.0    1     6      3             9         2         0   \n28          1778.0    0     6      1            14         1         0   \n29           361.0    0     6      1            15         1         0   \n...            ...  ...   ...    ...           ...       ...       ...   \n55369        326.0    2     6      2             7         0         0   \n55370        381.0    2     3      3             3         0         4   \n55371        105.0    1     2      3            15         2         3   \n55372        874.0    0     6      4             0         1         0   \n55373        170.0    1     3      3             2         2         4   \n55374        640.0    1     7      1            11         2         6   \n55375        457.0    2     6      3             0         0         0   \n55376       3424.0    2     6      3             0         0         0   \n55377        247.0    0     6      1             5         1         0   \n55378        159.0    1     2      4            11         2         3   \n55379        195.0    1     7      0            11         2         6   \n55380        109.0    2     5      0            17         0         5   \n55381        115.0    0     2      3            11         1         3   \n55382        120.0    0     2      0             7         1         3   \n55383        194.0    1     6      0             8         2         0   \n55384        439.0    2     6      1             0         0         0   \n55385        727.0    0     6      4             2         1         0   \n55386        187.0    1     6      1            15         2         0   \n55387        446.0    0     5      4            18         1         5   \n55388        358.0    0     6      2             7         1         0   \n55389        108.0    2     1      4             1         0         2   \n55390        171.0    2     2      2            12         0         3   \n55391        178.0    1     7      0             1         2         6   \n55392       3583.0    2     7      2             7         0         6   \n55393        104.0    0     7      2             8         1         6   \n55394        541.0    2     6      0             1         0         0   \n55395        595.0    0     6      3             8         1         0   \n55396        186.0    0     6      1             1         1         0   \n55397       1107.0    2     6      0             0         0         0   \n55398        348.0    1     3      4            17         2         4   \n\n       StratID3  StratificationType   Latitute   Longitute  stratIDTotal  \n0             0                   0  29.760427  -95.369803             5  \n1             0                   0  29.760427  -95.369803             3  \n2             2                   3  39.493240 -117.071841             9  \n3             0                   3  40.793730  -77.860700             4  \n4             0                   0  37.774930 -122.419416             8  \n5             1                   0  39.952584  -75.165222             6  \n6             3                   0  32.715738 -117.161084             4  \n7             3                   3  39.360700 -111.587131             5  \n8             3                   3  38.665510  -80.712640             3  \n9             3                   3  21.304850 -157.857749             3  \n10            4                   0  40.712784  -74.005941             8  \n11            0                   4  13.444304  144.793731             4  \n12            2                   3  47.066529 -109.424421             8  \n13            1                   3  42.827001  -75.543970             5  \n14            1                   3  47.066529 -109.424421             7  \n15            3                   0  40.712784  -74.005941            11  \n16            0                   3  44.661320  -84.714390             3  \n17            1                   4   6.068302  171.989379             6  \n18            4                   0  40.783060  -73.971249             4  \n19            0                   3  39.360700 -111.587131             2  \n20            0                   3  41.562661  -72.649841             6  \n21            0                   3  32.839681  -83.627580             4  \n22            3                   0  26.190096  -80.365865             5  \n23            1                   3  38.635791  -92.566300             4  \n24            3                   3  42.469401  -93.816491             3  \n25            2                   3  39.290581  -76.609260             8  \n26            3                   3  21.304850 -157.857749             4  \n27            1                   3  33.998821  -81.045371             3  \n28            3                   1  36.391076  -81.123898             4  \n29            3                   0  25.551603  -80.632692             4  \n...         ...                 ...        ...         ...           ...  \n55369         4                   0  42.331427  -83.045754             4  \n55370         1                   1  36.391076  -81.123898             5  \n55371         1                   3  32.839681  -83.627580             6  \n55372         0                   3  39.360700 -111.587131             1  \n55373         1                   3  34.865970 -111.763811             7  \n55374         3                   3  43.625381  -72.517641            11  \n55375         1                   3  32.839681  -83.627580             1  \n55376         1                   1  36.391076  -81.123898             1  \n55377         3                   3  35.680941  -85.774491             4  \n55378         0                   3  41.708280  -71.522470             5  \n55379         2                   3  42.276870  -72.082691            10  \n55380         2                   4   7.514980  134.582520             7  \n55381         1                   3  32.839681  -83.627580             5  \n55382         2                   0  39.952584  -75.165222             6  \n55383         2                   3  38.635791  -92.566300             4  \n55384         3                   3  47.475320 -100.118421             3  \n55385         0                   3  42.469401  -93.816491             1  \n55386         3                   0  39.290385  -76.612189             5  \n55387         0                   4  13.444304  144.793731             6  \n55388         4                   3  44.393191  -89.816371             5  \n55389         0                   3  43.625381  -72.517641             2  \n55390         4                   0  43.038903  -87.906474             7  \n55391         2                   3  43.655950  -71.500361            10  \n55392         4                   3  43.625381  -72.517641            10  \n55393         4                   3  38.665510  -80.712640            11  \n55394         2                   3  41.562661  -72.649841             2  \n55395         1                   3  41.641041  -99.365721             2  \n55396         3                   4   6.068302  171.989379             4  \n55397         2                   3  31.827240  -99.426770             2  \n55398         0                   0  32.776664  -96.796988             6  \n\n[55399 rows x 17 columns]",
     "output_type": "error",
     "traceback": [
      "\u001b[1;31m---------------------------------------------------------------------------\u001b[0m",
      "\u001b[1;31mValueError\u001b[0m                                Traceback (most recent call last)",
      "\u001b[1;32m<ipython-input-24-ad7c4c950fe5>\u001b[0m in \u001b[0;36m<module>\u001b[1;34m()\u001b[0m\n\u001b[0;32m      4\u001b[0m     \u001b[0mepochs\u001b[0m\u001b[1;33m=\u001b[0m\u001b[1;36m50\u001b[0m\u001b[1;33m,\u001b[0m\u001b[1;33m\u001b[0m\u001b[0m\n\u001b[0;32m      5\u001b[0m     \u001b[0mshuffle\u001b[0m\u001b[1;33m=\u001b[0m\u001b[1;32mTrue\u001b[0m\u001b[1;33m,\u001b[0m\u001b[1;33m\u001b[0m\u001b[0m\n\u001b[1;32m----> 6\u001b[1;33m     \u001b[0mverbose\u001b[0m\u001b[1;33m=\u001b[0m\u001b[1;36m2\u001b[0m\u001b[1;33m\u001b[0m\u001b[0m\n\u001b[0m\u001b[0;32m      7\u001b[0m )\n",
      "\u001b[1;32mC:\\ProgramData\\Anaconda3\\lib\\site-packages\\keras\\engine\\training.py\u001b[0m in \u001b[0;36mfit\u001b[1;34m(self, x, y, batch_size, epochs, verbose, callbacks, validation_split, validation_data, shuffle, class_weight, sample_weight, initial_epoch, steps_per_epoch, validation_steps, **kwargs)\u001b[0m\n\u001b[0;32m    950\u001b[0m             \u001b[0msample_weight\u001b[0m\u001b[1;33m=\u001b[0m\u001b[0msample_weight\u001b[0m\u001b[1;33m,\u001b[0m\u001b[1;33m\u001b[0m\u001b[0m\n\u001b[0;32m    951\u001b[0m             \u001b[0mclass_weight\u001b[0m\u001b[1;33m=\u001b[0m\u001b[0mclass_weight\u001b[0m\u001b[1;33m,\u001b[0m\u001b[1;33m\u001b[0m\u001b[0m\n\u001b[1;32m--> 952\u001b[1;33m             batch_size=batch_size)\n\u001b[0m\u001b[0;32m    953\u001b[0m         \u001b[1;31m# Prepare validation data.\u001b[0m\u001b[1;33m\u001b[0m\u001b[1;33m\u001b[0m\u001b[0m\n\u001b[0;32m    954\u001b[0m         \u001b[0mdo_validation\u001b[0m \u001b[1;33m=\u001b[0m \u001b[1;32mFalse\u001b[0m\u001b[1;33m\u001b[0m\u001b[0m\n",
      "\u001b[1;32mC:\\ProgramData\\Anaconda3\\lib\\site-packages\\keras\\engine\\training.py\u001b[0m in \u001b[0;36m_standardize_user_data\u001b[1;34m(self, x, y, sample_weight, class_weight, check_array_lengths, batch_size)\u001b[0m\n\u001b[0;32m    668\u001b[0m                                      \u001b[1;34m'either a single '\u001b[0m\u001b[1;33m\u001b[0m\u001b[0m\n\u001b[0;32m    669\u001b[0m                                      \u001b[1;34m'array or a list of arrays. '\u001b[0m\u001b[1;33m\u001b[0m\u001b[0m\n\u001b[1;32m--> 670\u001b[1;33m                                      'You passed: x=' + str(x))\n\u001b[0m\u001b[0;32m    671\u001b[0m                 \u001b[0mall_inputs\u001b[0m\u001b[1;33m.\u001b[0m\u001b[0mappend\u001b[0m\u001b[1;33m(\u001b[0m\u001b[0mx\u001b[0m\u001b[1;33m)\u001b[0m\u001b[1;33m\u001b[0m\u001b[0m\n\u001b[0;32m    672\u001b[0m \u001b[1;33m\u001b[0m\u001b[0m\n",
      "\u001b[1;31mValueError\u001b[0m: Please provide as model inputs either a single array or a list of arrays. You passed: x=       YEAR  LocationDesc  Subtopic  Greater_Risk_Question  Description  \\\n0      1995            32         1                      6            7   \n1      1997            32         0                      0            8   \n2      1993            54         0                     14           14   \n3      2017            71         1                      6            7   \n4      2007            77         1                      5           15   \n5      2015            72         1                     10           16   \n6      2009            76         0                      0            8   \n7      2007            85         0                      0            8   \n8      2017            88         1                     19           11   \n9      1999            31         1                     10           16   \n10     2009            60         0                     14           14   \n11     1995            30         1                     10           16   \n12     2007            51         1                     11            6   \n13     2005            59         1                      9            2   \n14     2011            51         0                     14           14   \n15     2011            60         1                     10           16   \n16     2007            47         1                     10           16   \n17     2007            42         1                     19           11   \n18     2007             8         1                      5           15   \n19     1993            85         0                      0            8   \n20     2017            19         0                      0            8   \n21     2005            29         0                      2            9   \n22     2013            12         1                      9            2   \n23     1999            50         1                      1            5   \n24     1997            36         1                      5           15   \n25     2007            43         1                      9            2   \n26     2017            31         0                      0            8   \n27     1997            80         1                      6            7   \n28     2017            84         1                     13            0   \n29     2015            46         1                      5           15   \n...     ...           ...       ...                    ...          ...   \n55369  2003            24         1                     17            4   \n55370  2007            84         0                     18           12   \n55371  2003            29         1                      5           15   \n55372  2017            85         0                      2            9   \n55373  2017             3         0                      0            8   \n55374  2007            86         1                      9            2   \n55375  2009            29         0                      2            9   \n55376  1997            84         0                      2            9   \n55377  2017            82         0                     15           19   \n55378  2015            74         1                      9            2   \n55379  2017            44         1                      9            2   \n55380  2001            69         1                      3           18   \n55381  2005            29         1                      9            2   \n55382  2017            72         1                     17            4   \n55383  1997            50         1                      1            5   \n55384  2007            63         0                      2            9   \n55385  2007            36         0                      0            8   \n55386  2005             5         1                      5           15   \n55387  2001            30         1                     19           11   \n55388  2011            89         1                     17            4   \n55389  2001            86         0                     14           14   \n55390  2011            48         1                     12            3   \n55391  2013            55         0                     14           14   \n55392  2015            86         1                     17            4   \n55393  2015            88         1                      1            5   \n55394  2005            19         0                     14           14   \n55395  2005            53         1                      1            5   \n55396  2007            42         0                     14           14   \n55397  2011            83         0                      2            9   \n55398  2001            20         1                      3           18   \n\n       Sample_Size  Sex  Race  Grade  QuestionCode  StratID1  StratID2  \\\n0            335.0    0     3      4             9         1         4   \n1            382.0    2     2      4             2         0         3   \n2            196.0    0     7      0             1         1         6   \n3            104.0    1     1      4             9         2         2   \n4            100.0    0     4      4            15         1         7   \n5            108.0    1     2      3            10         2         3   \n6            230.0    0     6      1             2         1         0   \n7            180.0    1     6      1             2         2         0   \n8            427.0    2     6      1            18         0         0   \n9            314.0    2     6      1            10         0         0   \n10           112.0    1     1      2             1         2         2   \n11            98.0    1     1      4            10         2         2   \n12           776.0    2     7      0             6         0         6   \n13           357.0    0     2      3            11         1         3   \n14           887.0    2     7      3             1         0         6   \n15           145.0    1     7      1            10         2         6   \n16           306.0    2     2      4            10         0         3   \n17           435.0    2     5      3            18         0         5   \n18           284.0    2     6      2            15         0         0   \n19          2149.0    1     6      4             2         2         0   \n20          1102.0    2     7      4             2         0         6   \n21           319.0    0     2      4             0         1         3   \n22           144.0    1     6      1            11         2         0   \n23           130.0    2     2      3             8         0         3   \n24           341.0    2     6      1            15         0         0   \n25           205.0    2     7      0            11         0         6   \n26           809.0    0     6      1             2         1         0   \n27           907.0    1     6      3             9         2         0   \n28          1778.0    0     6      1            14         1         0   \n29           361.0    0     6      1            15         1         0   \n...            ...  ...   ...    ...           ...       ...       ...   \n55369        326.0    2     6      2             7         0         0   \n55370        381.0    2     3      3             3         0         4   \n55371        105.0    1     2      3            15         2         3   \n55372        874.0    0     6      4             0         1         0   \n55373        170.0    1     3      3             2         2         4   \n55374        640.0    1     7      1            11         2         6   \n55375        457.0    2     6      3             0         0         0   \n55376       3424.0    2     6      3             0         0         0   \n55377        247.0    0     6      1             5         1         0   \n55378        159.0    1     2      4            11         2         3   \n55379        195.0    1     7      0            11         2         6   \n55380        109.0    2     5      0            17         0         5   \n55381        115.0    0     2      3            11         1         3   \n55382        120.0    0     2      0             7         1         3   \n55383        194.0    1     6      0             8         2         0   \n55384        439.0    2     6      1             0         0         0   \n55385        727.0    0     6      4             2         1         0   \n55386        187.0    1     6      1            15         2         0   \n55387        446.0    0     5      4            18         1         5   \n55388        358.0    0     6      2             7         1         0   \n55389        108.0    2     1      4             1         0         2   \n55390        171.0    2     2      2            12         0         3   \n55391        178.0    1     7      0             1         2         6   \n55392       3583.0    2     7      2             7         0         6   \n55393        104.0    0     7      2             8         1         6   \n55394        541.0    2     6      0             1         0         0   \n55395        595.0    0     6      3             8         1         0   \n55396        186.0    0     6      1             1         1         0   \n55397       1107.0    2     6      0             0         0         0   \n55398        348.0    1     3      4            17         2         4   \n\n       StratID3  StratificationType   Latitute   Longitute  stratIDTotal  \n0             0                   0  29.760427  -95.369803             5  \n1             0                   0  29.760427  -95.369803             3  \n2             2                   3  39.493240 -117.071841             9  \n3             0                   3  40.793730  -77.860700             4  \n4             0                   0  37.774930 -122.419416             8  \n5             1                   0  39.952584  -75.165222             6  \n6             3                   0  32.715738 -117.161084             4  \n7             3                   3  39.360700 -111.587131             5  \n8             3                   3  38.665510  -80.712640             3  \n9             3                   3  21.304850 -157.857749             3  \n10            4                   0  40.712784  -74.005941             8  \n11            0                   4  13.444304  144.793731             4  \n12            2                   3  47.066529 -109.424421             8  \n13            1                   3  42.827001  -75.543970             5  \n14            1                   3  47.066529 -109.424421             7  \n15            3                   0  40.712784  -74.005941            11  \n16            0                   3  44.661320  -84.714390             3  \n17            1                   4   6.068302  171.989379             6  \n18            4                   0  40.783060  -73.971249             4  \n19            0                   3  39.360700 -111.587131             2  \n20            0                   3  41.562661  -72.649841             6  \n21            0                   3  32.839681  -83.627580             4  \n22            3                   0  26.190096  -80.365865             5  \n23            1                   3  38.635791  -92.566300             4  \n24            3                   3  42.469401  -93.816491             3  \n25            2                   3  39.290581  -76.609260             8  \n26            3                   3  21.304850 -157.857749             4  \n27            1                   3  33.998821  -81.045371             3  \n28            3                   1  36.391076  -81.123898             4  \n29            3                   0  25.551603  -80.632692             4  \n...         ...                 ...        ...         ...           ...  \n55369         4                   0  42.331427  -83.045754             4  \n55370         1                   1  36.391076  -81.123898             5  \n55371         1                   3  32.839681  -83.627580             6  \n55372         0                   3  39.360700 -111.587131             1  \n55373         1                   3  34.865970 -111.763811             7  \n55374         3                   3  43.625381  -72.517641            11  \n55375         1                   3  32.839681  -83.627580             1  \n55376         1                   1  36.391076  -81.123898             1  \n55377         3                   3  35.680941  -85.774491             4  \n55378         0                   3  41.708280  -71.522470             5  \n55379         2                   3  42.276870  -72.082691            10  \n55380         2                   4   7.514980  134.582520             7  \n55381         1                   3  32.839681  -83.627580             5  \n55382         2                   0  39.952584  -75.165222             6  \n55383         2                   3  38.635791  -92.566300             4  \n55384         3                   3  47.475320 -100.118421             3  \n55385         0                   3  42.469401  -93.816491             1  \n55386         3                   0  39.290385  -76.612189             5  \n55387         0                   4  13.444304  144.793731             6  \n55388         4                   3  44.393191  -89.816371             5  \n55389         0                   3  43.625381  -72.517641             2  \n55390         4                   0  43.038903  -87.906474             7  \n55391         2                   3  43.655950  -71.500361            10  \n55392         4                   3  43.625381  -72.517641            10  \n55393         4                   3  38.665510  -80.712640            11  \n55394         2                   3  41.562661  -72.649841             2  \n55395         1                   3  41.641041  -99.365721             2  \n55396         3                   4   6.068302  171.989379             4  \n55397         2                   3  31.827240  -99.426770             2  \n55398         0                   0  32.776664  -96.796988             6  \n\n[55399 rows x 17 columns]"
     ]
    }
   ],
   "source": [
    "model.fit(\n",
    "    train,\n",
    "    y,\n",
    "    epochs=50,\n",
    "    shuffle=True,\n",
    "    verbose=2\n",
    ")"
   ]
  },
  {
   "cell_type": "code",
   "execution_count": null,
   "metadata": {},
   "outputs": [],
   "source": []
  },
  {
   "cell_type": "code",
   "execution_count": null,
   "metadata": {},
   "outputs": [],
   "source": []
  },
  {
   "cell_type": "code",
   "execution_count": null,
   "metadata": {},
   "outputs": [],
   "source": []
  },
  {
   "cell_type": "code",
   "execution_count": null,
   "metadata": {},
   "outputs": [],
   "source": []
  }
 ],
 "metadata": {
  "kernelspec": {
   "display_name": "Python 3",
   "language": "python",
   "name": "python3"
  },
  "language_info": {
   "codemirror_mode": {
    "name": "ipython",
    "version": 3
   },
   "file_extension": ".py",
   "mimetype": "text/x-python",
   "name": "python",
   "nbconvert_exporter": "python",
   "pygments_lexer": "ipython3",
   "version": "3.6.4"
  }
 },
 "nbformat": 4,
 "nbformat_minor": 2
}
